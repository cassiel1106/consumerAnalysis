{
 "cells": [
  {
   "cell_type": "markdown",
   "metadata": {},
   "source": [
    "对零售商CDNow的用户消费行为进行数据分析\n",
    "分析目的：\n",
    "通过从用户活跃度、用户平台价值、用户生命周期等角度进行用户消费数据分类，进而得知用户购买力、消费频次偏好、运营效果等，为活动运营后续的活动转化价格策略制定提供方向引导，为用户运营更好地解析和管理用户（例如对高价值用户的维系、对低价值用户的适当舍弃等），降低运营成本最大化运营效果提供有力的数据支撑。"
   ]
  },
  {
   "cell_type": "markdown",
   "metadata": {},
   "source": [
    "字段解释：\n",
    "user_id 用户ID\n",
    "order_dt: 消费日期\n",
    "order_products: 消费产品数量\n",
    "order_amount: 消费金额"
   ]
  },
  {
   "cell_type": "code",
   "execution_count": null,
   "metadata": {},
   "outputs": [],
   "source": [
    "#导入各种包\n",
    "import pandas as pd \n",
    "import numpy as np  \n",
    "import matplotlib.pyplot as plt\n",
    "%matplotlib inline\n",
    "plt.style.use('ggplot')#更改设计风格\n",
    "import seaborn as sns\n",
    "plt.rcParams['font.sans-serif']=['SimHei']#用来正常显示中文标签\n",
    "plt.rcParams['axes.unicode_minus']=False#用来正常显示负号"
   ]
  },
  {
   "cell_type": "code",
   "execution_count": null,
   "metadata": {},
   "outputs": [],
   "source": [
    "# txt格式用read_table 如果有多个字符串 sep ='\\s+' 正常csv用的是 ','\n",
    "columns=['user_id','order_dt','order_products','order_amount']\n",
    "df=pd.read_table('CDNOW_master.txt',names=columns,sep='\\s+')\n",
    "#df.info()   #导入数据后检查数据的完整性\n",
    "#通过查看数据完整性，可以得知这份数据没有缺失值和异常值，需要进行格式转换\n",
    "#因为购买日期的数据类型是int，需要将其转换为datatime格式\n",
    "# parse_dates='order_dt' 将购买日期转换为时间格式，date_parser='%Y%m%d'具体时间格式，可以将这两个参数加在括号里\n",
    "df.order_dt=pd.to_datetime(df.order_dt,format='%Y%m%d')\n",
    "df.describe()  #对预处理后的数据进行描述性统计"
   ]
  },
  {
   "cell_type": "markdown",
   "metadata": {},
   "source": [
    "1、对用户消费趋势进行分析（按月）\n",
    "主要分析这四个方面：\n",
    "每月的消费频次\n",
    "每月的产品购买量\n",
    "每月消费的总金额\n",
    "每月的消费人数"
   ]
  },
  {
   "cell_type": "code",
   "execution_count": null,
   "metadata": {},
   "outputs": [],
   "source": [
    "month_grouped=df.resample('m').agg({'user_id':'count',\n",
    "                                   'order_products':'sum',\n",
    "                                   'order_amount':'sum'})\n",
    "month_grouped['user_sum']=df.resample('m')['user_id'].nunique()\n",
    "#通过resample函数对数据进行按月分组，分别求出每月的消费频次，购买量、每月消费的总金额以及每月的消费人数：\n",
    "import pylab\n",
    "%pylab inline\n",
    "pylab.rcParams['figure.figsize']=(16,20)\n",
    "fig,axes = plt.subplots(4,1)\n",
    "axes0,axes1,axes2,axes3 = axes.flatten()\n",
    "axes0.bar(month_grouped.index,month_grouped.user_id,width=20)\n",
    "axes0.set_title('每月的消费频次')\n",
    "axes1.bar(month_grouped.index,month_grouped.order_products,width=20)\n",
    "axes1.set_title('每月的产品购买量')\n",
    "axes2.bar(month_grouped.index,month_grouped.order_amount,width=20)\n",
    "axes2.set_title('每月消费的总金额')\n",
    "axes3.bar(month_grouped.index,month_grouped.user_sum,width=20)\n",
    "axes3.set_title('每月的消费人数')\n",
    "\n"
   ]
  },
  {
   "cell_type": "code",
   "execution_count": null,
   "metadata": {},
   "outputs": [],
   "source": [
    "#对user_id进行去重处理，再统计每月的消费人数：\n",
    "print(df.drop_duplicates('user_id')['user_id'].resample('m').count())"
   ]
  },
  {
   "cell_type": "code",
   "execution_count": null,
   "metadata": {},
   "outputs": [],
   "source": [
    "#每月用户平均消费金额分析\n",
    "pylab.rcParams['figure.figsize']=(16,6)\n",
    "user_avgamount = month_grouped['order_amount']/month_grouped['user_sum']\n",
    "plt.bar(user_avgamount.index,user_avgamount,width=20)"
   ]
  },
  {
   "cell_type": "code",
   "execution_count": null,
   "metadata": {},
   "outputs": [],
   "source": [
    "#每月用户平均消费次数分析\n",
    "user_avgorder = month_grouped['order_products']/month_grouped['user_sum']\n",
    "plt.bar(user_avgorder.index,user_avgamount,width=20)\n",
    "plt.title('用户每月的平均消费次数',size=20)"
   ]
  },
  {
   "cell_type": "markdown",
   "metadata": {},
   "source": [
    "2、用户的个体消费分析\n",
    "分为以下几个方面分析：\n",
    "\n",
    "用户消费金额、消费次数的描述统计\n",
    "用户消费金额和消费次数的相关性\n",
    "用户消费金额的分布图\n",
    "用户产品购买量的分布图\n",
    "用户累计消费金额占比（百分之多少的用户占了百分多少的消费额）"
   ]
  },
  {
   "cell_type": "code",
   "execution_count": null,
   "metadata": {},
   "outputs": [],
   "source": [
    "#用户消费金额、消费次数的描述统计:\n",
    "user_grouped = df.groupby('user_id').agg({'user_id':'count',\n",
    "                                          'order_products':'sum',\n",
    "                                          'order_amount':'sum'})\n",
    "user_grouped.describe()"
   ]
  },
  {
   "cell_type": "code",
   "execution_count": null,
   "metadata": {},
   "outputs": [],
   "source": [
    "#绘制用户消费金额和消费次数的散点图:\n",
    "user_grouped.plot.scatter(x='order_products',y='order_amount')"
   ]
  },
  {
   "cell_type": "code",
   "execution_count": null,
   "metadata": {},
   "outputs": [],
   "source": [
    "#通过query函数过滤极值后再做散点图"
   ]
  },
  {
   "cell_type": "code",
   "execution_count": null,
   "metadata": {},
   "outputs": [],
   "source": [
    "#用户消费金额的分布图：\n",
    "pylab.rcParams['figure.figsize']=(16,9)\n",
    "user_grouped['order_amount'].hist(bins=30)"
   ]
  },
  {
   "cell_type": "code",
   "execution_count": null,
   "metadata": {},
   "outputs": [],
   "source": [
    "#去除异常值后再一次进行分布图展示\n",
    "user_grouped.query('order_amount<829')['order_amount'].hist(bins=30)"
   ]
  },
  {
   "cell_type": "code",
   "execution_count": null,
   "metadata": {},
   "outputs": [],
   "source": [
    "#用户产品购买量的分布图\n",
    "#同样的，使用切比雪夫定理过滤掉异常值：\n",
    "user_grouped.query('order_products<58.12')['order_products'].hist(bins=30)"
   ]
  },
  {
   "cell_type": "code",
   "execution_count": null,
   "metadata": {},
   "outputs": [],
   "source": [
    "#用户累计消费金额占比\n",
    "user_cumsum = user_grouped.sort_values('order_amount').apply(lambda x : x.cumsum()/x.sum())\n",
    "user_cumsum.reset_index(drop=True).order_amount.plot()\n",
    "plt.grid()"
   ]
  },
  {
   "cell_type": "markdown",
   "metadata": {},
   "source": [
    "消费行为分析\n",
    "主要分为以下几个方面分析：\n",
    "\n",
    "用户第一次消费（首购）\n",
    "用户最后一次消费\n",
    "新老客户消费比\n",
    "多少用户仅消费了一次？\n",
    "每月新客占比？\n",
    "用户分层\n",
    "RFM\n",
    "新、老、活跃、回流、流失\n",
    "用户购买周期（按订单）\n",
    "用户消费周期描述\n",
    "用户消费周期分布\n",
    "用户生命周期（按第一次&最后一次消费）\n",
    "用户生命周期描述\n",
    "用户生命周期分布\n"
   ]
  },
  {
   "cell_type": "code",
   "execution_count": null,
   "metadata": {},
   "outputs": [],
   "source": [
    "#用户第一次消费（首购）\n",
    "#提取用户第一次消费的日期并作图：\n",
    "df.groupby('user_id')['order_dt'].min().value_counts().plot()"
   ]
  },
  {
   "cell_type": "code",
   "execution_count": null,
   "metadata": {},
   "outputs": [],
   "source": [
    "#用户最后一次消费\n",
    "df.groupby('user_id')['order_dt'].max().value_counts().plot()"
   ]
  },
  {
   "cell_type": "code",
   "execution_count": null,
   "metadata": {},
   "outputs": [],
   "source": [
    "#新老客户消费比\n",
    "#求出用户购买产品日期的最大值和最小值，若该日期的最大值等于其最小值，说明这个用户只消费了一次。\n",
    "user_dt = df.groupby('user_id').order_dt.agg(['min','max'])\n",
    "pylab.rcParams['figure.figsize']=(8,8)\n",
    "rate = (user_dt['min'] == user_dt['max']).value_counts()\n",
    "labels = ['只消费一次用户','多次消费用户']\n",
    "patches,l_text,p_text = plt.pie(rate,labels=labels,\n",
    "                                explode=(0,0.15),\n",
    "                                autopct='%2.1f%%',\n",
    "                                startangle=90,\n",
    "                               )\n",
    "for t in l_text: #调整标签字体大小\n",
    "    t.set_size(15)\n",
    "for t in p_text: #调整百分数字体大小\n",
    "    t.set_size(15)"
   ]
  },
  {
   "cell_type": "code",
   "execution_count": null,
   "metadata": {},
   "outputs": [],
   "source": [
    "#对用户按月分组，计算新用户人数占总消费人数的比例：\n",
    "pylab.rcParams['figure.figsize']=(10,6)\n",
    "user_new = df.drop_duplicates('user_id')['user_id'].resample('m').count()#计算每月首次购买产品的用户数\n",
    "user_sum = df.resample('m')['user_id'].nunique()#计算每月购买产品的用户总数\n",
    "(user_new/user_sum).fillna(0).plot(）"
   ]
  },
  {
   "cell_type": "code",
   "execution_count": null,
   "metadata": {},
   "outputs": [],
   "source": [
    " RFM分层\n",
    "RFM模型，通过对用户在R（Recency，最近一次消费）F（Frequency，消费频率）M（Monetary，消费金额）三方面的表现进行\n",
    "分类，然后对分类分组进行定性描述的，分层模型如下："
   ]
  },
  {
   "cell_type": "code",
   "execution_count": null,
   "metadata": {},
   "outputs": [],
   "source": [
    "#先对数据做预处理，让每个日期减去最大日期获得间隔天数（该数为负数），当数值越大时，说明日期越近。\n",
    "df.reset_index(inplace=True)\n",
    "df['period']=(df.order_dt - df.order_dt.max())/np.timedelta64(1,'D')#计算时间差，并转换为float类型"
   ]
  },
  {
   "cell_type": "code",
   "execution_count": null,
   "metadata": {},
   "outputs": [],
   "source": [
    "#使用数据透视表功能，求出各用户的最近消费时间（间隔天数），消费频次，消费总金额。\n",
    "user_rfm = df.pivot_table(values=['period','order_products','order_amount'],\n",
    "                          index='user_id',aggfunc={'period':'max',\n",
    "                                                  'order_products':'count',\n",
    "                                                    'order_amount':'sum' })\n",
    "user_rfm = user_rfm.rename(columns = {'order_amount':'M','order_products':'F','period':'R'})"
   ]
  },
  {
   "cell_type": "code",
   "execution_count": null,
   "metadata": {},
   "outputs": [],
   "source": [
    "将用户在R、F、M\n",
    "三个维度上按照高于平均值和低于平均值进行划分（划分标准可根据不同业务设计也不同）,\n",
    "高于平均值则赋值为1，低于平均值则赋值为0，最后根据RFM分层模型给所有用户分层："
   ]
  },
  {
   "cell_type": "code",
   "execution_count": null,
   "metadata": {},
   "outputs": [],
   "source": [
    "def level_label(data):#定义分层函数\n",
    "    level = data.apply(lambda x :'1' if x>=0 else '0')\n",
    "    label = level['R']+level['F']+level['M']\n",
    "    d = {\n",
    "        '111':\"高价值客户\",\n",
    "        '011':\"重点保持客户\",\n",
    "        '101':\"重点发展客户\",\n",
    "        '001':\"重点挽留客户\",\n",
    "        '110':\"一般价值客户\",\n",
    "        '010':\"一般保持客户\",\n",
    "        '100':\"一般发展客户\",\n",
    "        '000':\"潜在客户\"\n",
    "    }\n",
    "    result = d[label]\n",
    "    return result\n",
    "\n",
    "\n",
    "user_rfm['label'] = (user_rfm - user_rfm.mean()).apply(level_label,axis=1)"
   ]
  },
  {
   "cell_type": "code",
   "execution_count": null,
   "metadata": {},
   "outputs": [],
   "source": [
    "#对用户分层结果计数,作饼状图：\n",
    "label_count = user_rfm.groupby('label').count()\n",
    "pylab.rcParams['figure.figsize']=(10,10)\n",
    "labels = ['一般价值客户','一般保持客户','一般发展客户','潜在客户','重点保持客户','重点发展客户','重点挽留客户','高价值客户']\n",
    "\n",
    "plt.pie(label_count['M'],labels=labels,autopct = '%3.1f%%',startangle = 90)"
   ]
  },
  {
   "cell_type": "code",
   "execution_count": null,
   "metadata": {},
   "outputs": [],
   "source": [
    " 用户状态分析：注册、活跃、回流、流失（不活跃）统计\n",
    "建立数据透视表，以user_id为横坐标，m月份为纵坐标，统计用户每月的消费情况："
   ]
  },
  {
   "cell_type": "code",
   "execution_count": null,
   "metadata": {},
   "outputs": [],
   "source": [
    "pivoted_count = df.pivot_table(index = 'user_id',\n",
    "                               columns='M',\n",
    "                               values = 'order_products',\n",
    "                               aggfunc={'order_products':'count'})\n",
    "pivoted_count = pivoted_count.fillna(0)"
   ]
  },
  {
   "cell_type": "code",
   "execution_count": null,
   "metadata": {},
   "outputs": [],
   "source": [
    "进行多重判断，将用户状态分为unreg（未注册）、new（新客）、active（活跃用户）return（回流用户）\n",
    "和unactive（不活跃用户）："
   ]
  },
  {
   "cell_type": "code",
   "execution_count": null,
   "metadata": {},
   "outputs": [],
   "source": [
    "def status(data):\n",
    "    state = []\n",
    "    lenth = len(data)\n",
    "    for i in range(18):\n",
    "        if data[i]>0:\n",
    "            if len(state) == 0:\n",
    "                state.append('new')\n",
    "            else:\n",
    "                if state[i-1] == 'unreg':\n",
    "                    state.append('new')\n",
    "                elif state[i-1] == 'unactive':\n",
    "                    state.append('return')\n",
    "                else:\n",
    "                    state.append('active')\n",
    "                \n",
    "        else:\n",
    "            if len(state) == 0:\n",
    "                state.append('unreg')\n",
    "            else:\n",
    "                if state[i-1] == 'unreg':\n",
    "                    state.append('unreg')\n",
    "                else:\n",
    "                    state.append('unactive')\n",
    "    return state\n",
    "                    \n",
    "pivoted_count.apply(status,axis=1)\n",
    "                    "
   ]
  },
  {
   "cell_type": "code",
   "execution_count": null,
   "metadata": {},
   "outputs": [],
   "source": [
    "#不同用户的计数统计,并做面积图：\n",
    "pylab.rcParams['figure.figsize'] = (10,6)\n",
    "pivoted_count.replace('unreg',np.NaN).apply(lambda x:pd.value_counts(x)).T.fillna(0).plot.area()"
   ]
  },
  {
   "cell_type": "code",
   "execution_count": null,
   "metadata": {},
   "outputs": [],
   "source": [
    "用户生命周期（按第一次&最后一次消费）\n",
    "按用户进行分组，计算用户本次购买日期和下一次购买日期的时间间隔，并统计："
   ]
  },
  {
   "cell_type": "code",
   "execution_count": null,
   "metadata": {},
   "outputs": [],
   "source": [
    "user_period = df.groupby('user_id').apply(lambda x:x.order_dt-x.order_dt.shift())\n",
    "user_period.describe()"
   ]
  },
  {
   "cell_type": "code",
   "execution_count": null,
   "metadata": {},
   "outputs": [],
   "source": [
    "#对该数据做分布图：\n",
    "(user_period/np.timedelta64(1,'D')).hist(bins=20)\n",
    "plt.title('用户购买周期分布图')"
   ]
  },
  {
   "cell_type": "code",
   "execution_count": null,
   "metadata": {},
   "outputs": [],
   "source": [
    "#用户的生命周期分布：\n",
    "user_cycle = df.groupby('user_id').apply(lambda x:x.order_dt.max()-x.order_dt.min())\n",
    "user_cycle.describe()"
   ]
  },
  {
   "cell_type": "code",
   "execution_count": null,
   "metadata": {},
   "outputs": [],
   "source": [
    "#对生命周期做直方图，过滤掉生命周期为0的用户：\n",
    "user_cycle = user_cycle/timedelta64(1,\"D\")\n",
    "user_cycle[user_cycle>0].plot.hist(bins=20)"
   ]
  },
  {
   "cell_type": "code",
   "execution_count": null,
   "metadata": {},
   "outputs": [],
   "source": [
    "复购率和回购率分析\n",
    "复购率：自然月内，购买多次的用户占比\n",
    "回购率：曾经购买过的用户在某一时期内再次购买的占比"
   ]
  },
  {
   "cell_type": "code",
   "execution_count": null,
   "metadata": {},
   "outputs": [],
   "source": [
    "复购率计算\n",
    "以月为单位，对统计的每月用户消费情况进行预处理：\n",
    "若消费次数大于1，则说明用户在本月进行了多次消费，对多次消费的情况取值为1；\n",
    "若消费次数等于1，说明用户在本月只进行了1次消费，每月复购行为，取值为0；\n",
    "若消费次数等于0，则说明用户在本月未消费。"
   ]
  },
  {
   "cell_type": "code",
   "execution_count": null,
   "metadata": {},
   "outputs": [],
   "source": [
    "pivoted_count = df.pivot_table(index = 'user_id',\n",
    "                               columns='M',\n",
    "                               values = 'order_products',\n",
    "                               aggfunc={'order_products':'count'})\n",
    "pivoted_count = pivoted_count.fillna(0)\n",
    "df_purchase = pivoted_count.applymap(lambda x:1 if x>1 else np.nan if x==0 else 0)#清洗数据，消费超过两次为1，消费过1次为0，没有消费为nan"
   ]
  },
  {
   "cell_type": "code",
   "execution_count": null,
   "metadata": {},
   "outputs": [],
   "source": [
    "#计算每个月的复购率，多次消费人数/总消费人数，并对其做柱状图。\n",
    "df_purchase.apply(lambda x:x.sum()/x.count()).plot.bar("
   ]
  },
  {
   "cell_type": "code",
   "execution_count": null,
   "metadata": {},
   "outputs": [],
   "source": [
    "4.1 回购率计算\n",
    "计算用户的回购率主要以本月与上月的进行对比，假如上月进行过消费，本月再次消费了，说明该用户是回购用户。\n",
    "对3.4.2统计的每月用户消费情况进行预处理：\n",
    "若消费次数大于0说明在本月已消费，重新赋值为1；\n",
    "若消费次数为0说明在本月未消费，重新赋值为np.nan；"
   ]
  },
  {
   "cell_type": "code",
   "execution_count": null,
   "metadata": {},
   "outputs": [],
   "source": [
    "df_purchase_back = pivoted_count.applymap(lambda x:1 if x>0 else np.nan)\n",
    "df_purchase_back.head()"
   ]
  },
  {
   "cell_type": "code",
   "execution_count": null,
   "metadata": {},
   "outputs": [],
   "source": [
    "编写筛选函数：\n",
    "若本月未消费，则全部置np.nan;\n",
    "若本月已消费，下月未消费置0；\n",
    "若本月已消费，下月也消费，置1（回购用户）"
   ]
  },
  {
   "cell_type": "code",
   "execution_count": null,
   "metadata": {},
   "outputs": [],
   "source": [
    "def purchase_back(data):\n",
    "    lenth = len(data)\n",
    "    state = []\n",
    "    for i in range(0,lenth-1):\n",
    "        if data[i] == 1:\n",
    "            if data[i+1]==1:\n",
    "                state.append(1) #若本月已消费，下个月也消费置1\n",
    "            else:\n",
    "                state.append(0) #本月已消费，下月未消费置0\n",
    "        else:\n",
    "            state.append(np.nan) #本月未消费置np.nan\n",
    "    state.append(np.nan)\n",
    "    return state"
   ]
  },
  {
   "cell_type": "code",
   "execution_count": null,
   "metadata": {},
   "outputs": [],
   "source": [
    "计算用户的回购率（本月用户回购人数/本月消费总人数），并做柱状图："
   ]
  },
  {
   "cell_type": "code",
   "execution_count": null,
   "metadata": {},
   "outputs": [],
   "source": [
    "df_purchase_b = df_purchase_back.apply(purchase_back,axis=1)\n",
    "df_purchase_b.apply(lambda x:x.sum()/x.count()).plot.bar()"
   ]
  },
  {
   "cell_type": "code",
   "execution_count": null,
   "metadata": {},
   "outputs": [],
   "source": []
  }
 ],
 "metadata": {
  "kernelspec": {
   "display_name": "Python 3",
   "language": "python",
   "name": "python3"
  },
  "language_info": {
   "codemirror_mode": {
    "name": "ipython",
    "version": 3
   },
   "file_extension": ".py",
   "mimetype": "text/x-python",
   "name": "python",
   "nbconvert_exporter": "python",
   "pygments_lexer": "ipython3",
   "version": "3.7.0"
  }
 },
 "nbformat": 4,
 "nbformat_minor": 2
}
