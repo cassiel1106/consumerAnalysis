{
 "cells": [
  {
   "cell_type": "code",
   "execution_count": null,
   "metadata": {},
   "outputs": [],
   "source": [
    "对零售商CDNow的用户消费行为进行数据分析\n",
    "分析目的：\n",
    "通过从用户活跃度、用户平台价值、用户生命周期等角度进行用户消费数据分类，\n",
    "进而得知用户购买力、消费频次偏好、运营效果等，为活动运营后续的活动转化价格策略制定提供方向引导，\n",
    "为用户运营更好地解析和管理用户（例如对高价值用户的维系、对低价值用户的适当舍弃等），降低运营成本最大化运营效果提供有力的数据支撑。\n",
    "字段解释：\n",
    "user_id 用户ID\n",
    "order_dt: 消费日期\n",
    "order_products: 消费产品数量\n",
    "order_amount: 消费金额"
   ]
  },
  {
   "cell_type": "code",
   "execution_count": 8,
   "metadata": {},
   "outputs": [],
   "source": [
    "#导入各种包\n",
    "import pandas as pd \n",
    "import numpy as np  \n",
    "import matplotlib.pyplot as plt\n",
    "%matplotlib inline\n",
    "plt.style.use('ggplot')#更改设计风格\n",
    "import seaborn as sns\n",
    "plt.rcParams['font.sans-serif']=['SimHei']#用来正常显示中文标签\n",
    "plt.rcParams['axes.unicode_minus']=False#用来正常显示负号"
   ]
  },
  {
   "cell_type": "code",
   "execution_count": 9,
   "metadata": {},
   "outputs": [
    {
     "data": {
      "text/html": [
       "<div>\n",
       "<style scoped>\n",
       "    .dataframe tbody tr th:only-of-type {\n",
       "        vertical-align: middle;\n",
       "    }\n",
       "\n",
       "    .dataframe tbody tr th {\n",
       "        vertical-align: top;\n",
       "    }\n",
       "\n",
       "    .dataframe thead th {\n",
       "        text-align: right;\n",
       "    }\n",
       "</style>\n",
       "<table border=\"1\" class=\"dataframe\">\n",
       "  <thead>\n",
       "    <tr style=\"text-align: right;\">\n",
       "      <th></th>\n",
       "      <th>user_id</th>\n",
       "      <th>order_products</th>\n",
       "      <th>order_amount</th>\n",
       "    </tr>\n",
       "  </thead>\n",
       "  <tbody>\n",
       "    <tr>\n",
       "      <th>count</th>\n",
       "      <td>69659.000000</td>\n",
       "      <td>69659.000000</td>\n",
       "      <td>69659.000000</td>\n",
       "    </tr>\n",
       "    <tr>\n",
       "      <th>mean</th>\n",
       "      <td>11470.854592</td>\n",
       "      <td>2.410040</td>\n",
       "      <td>35.893648</td>\n",
       "    </tr>\n",
       "    <tr>\n",
       "      <th>std</th>\n",
       "      <td>6819.904848</td>\n",
       "      <td>2.333924</td>\n",
       "      <td>36.281942</td>\n",
       "    </tr>\n",
       "    <tr>\n",
       "      <th>min</th>\n",
       "      <td>1.000000</td>\n",
       "      <td>1.000000</td>\n",
       "      <td>0.000000</td>\n",
       "    </tr>\n",
       "    <tr>\n",
       "      <th>25%</th>\n",
       "      <td>5506.000000</td>\n",
       "      <td>1.000000</td>\n",
       "      <td>14.490000</td>\n",
       "    </tr>\n",
       "    <tr>\n",
       "      <th>50%</th>\n",
       "      <td>11410.000000</td>\n",
       "      <td>2.000000</td>\n",
       "      <td>25.980000</td>\n",
       "    </tr>\n",
       "    <tr>\n",
       "      <th>75%</th>\n",
       "      <td>17273.000000</td>\n",
       "      <td>3.000000</td>\n",
       "      <td>43.700000</td>\n",
       "    </tr>\n",
       "    <tr>\n",
       "      <th>max</th>\n",
       "      <td>23570.000000</td>\n",
       "      <td>99.000000</td>\n",
       "      <td>1286.010000</td>\n",
       "    </tr>\n",
       "  </tbody>\n",
       "</table>\n",
       "</div>"
      ],
      "text/plain": [
       "            user_id  order_products  order_amount\n",
       "count  69659.000000    69659.000000  69659.000000\n",
       "mean   11470.854592        2.410040     35.893648\n",
       "std     6819.904848        2.333924     36.281942\n",
       "min        1.000000        1.000000      0.000000\n",
       "25%     5506.000000        1.000000     14.490000\n",
       "50%    11410.000000        2.000000     25.980000\n",
       "75%    17273.000000        3.000000     43.700000\n",
       "max    23570.000000       99.000000   1286.010000"
      ]
     },
     "execution_count": 9,
     "metadata": {},
     "output_type": "execute_result"
    }
   ],
   "source": [
    "# txt格式用read_table 如果有多个字符串 sep ='\\s+' 正常csv用的是 ','\n",
    "columns=['user_id','order_dt','order_products','order_amount']\n",
    "df=pd.read_table('CDNOW_master.txt',names=columns,sep='\\s+')\n",
    "#df.info()   #导入数据后检查数据的完整性\n",
    "#通过查看数据完整性，可以得知这份数据没有缺失值和异常值，需要进行格式转换\n",
    "#因为购买日期的数据类型是int，需要将其转换为datatime格式\n",
    "# parse_dates='order_dt' 将购买日期转换为时间格式，date_parser='%Y%m%d'具体时间格式，可以将这两个参数加在括号里\n",
    "df.order_dt=pd.to_datetime(df.order_dt,format='%Y%m%d')\n",
    "df.describe()  #对预处理后的数据进行描述性统计"
   ]
  },
  {
   "cell_type": "markdown",
   "metadata": {},
   "source": [
    "结论：\n",
    "\n",
    "1）大部分订单只消费了少量商品（平均2.4件），中位数为2件，说明有一定极值干扰拉高了平均值\n",
    "\n",
    "2）用户的消费金额比较稳定，平均消费35元，中位数在25元，同样说明有一定极值干扰"
   ]
  },
  {
   "cell_type": "markdown",
   "metadata": {},
   "source": [
    "1. 用户月消费趋势分析"
   ]
  },
  {
   "cell_type": "code",
   "execution_count": 10,
   "metadata": {},
   "outputs": [],
   "source": [
    "#新增一列月份month   [M]代表月份  values将其转换成数组 否则会报错 \n",
    "df['month'] = df.order_dt.values.astype('datetime64[M]')"
   ]
  },
  {
   "cell_type": "markdown",
   "metadata": {},
   "source": [
    "1.1每月消费总金额"
   ]
  },
  {
   "cell_type": "code",
   "execution_count": 11,
   "metadata": {},
   "outputs": [
    {
     "data": {
      "text/plain": [
       "month\n",
       "1997-01-01    299060.17\n",
       "1997-02-01    379590.03\n",
       "1997-03-01    393155.27\n",
       "1997-04-01    142824.49\n",
       "1997-05-01    107933.30\n",
       "Name: order_amount, dtype: float64"
      ]
     },
     "execution_count": 11,
     "metadata": {},
     "output_type": "execute_result"
    }
   ],
   "source": [
    "#按月分组 \n",
    "grouped_month = df.groupby('month')\n",
    "\n",
    "#月消费总金额 = 按月分组.消费金额.sum() \n",
    "order_month_amount = grouped_month.order_amount.sum() \n",
    "#查看前五行\n",
    "order_month_amount.head()"
   ]
  },
  {
   "cell_type": "code",
   "execution_count": 12,
   "metadata": {},
   "outputs": [
    {
     "data": {
      "text/plain": [
       "<matplotlib.axes._subplots.AxesSubplot at 0x2333360d5c0>"
      ]
     },
     "execution_count": 12,
     "metadata": {},
     "output_type": "execute_result"
    },
    {
     "data": {
      "image/png": "[encoded data removed]",
      "text/plain": [
       "<Figure size 432x288 with 1 Axes>"
      ]
     },
     "metadata": {},
     "output_type": "display_data"
    }
   ],
   "source": [
    "order_month_amount.plot()"
   ]
  },
  {
   "cell_type": "markdown",
   "metadata": {},
   "source": [
    "结论1：消费金额在前三个月达最高峰（接近400000元），而后出现断崖式下跌，后期每月消费金额较为平稳（80000元左右），有轻微下降趋势"
   ]
  },
  {
   "cell_type": "markdown",
   "metadata": {},
   "source": [
    "1.2每月消费次数"
   ]
  },
  {
   "cell_type": "code",
   "execution_count": 13,
   "metadata": {
    "scrolled": true
   },
   "outputs": [
    {
     "data": {
      "text/plain": [
       "<matplotlib.axes._subplots.AxesSubplot at 0x2333407d5c0>"
      ]
     },
     "execution_count": 13,
     "metadata": {},
     "output_type": "execute_result"
    },
    {
     "data": {
      "image/png": "[encoded data removed]",
      "text/plain": [
       "<Figure size 432x288 with 1 Axes>"
      ]
     },
     "metadata": {},
     "output_type": "display_data"
    }
   ],
   "source": [
    "#月订单数\n",
    "grouped_month.user_id.count().plot()"
   ]
  },
  {
   "cell_type": "markdown",
   "metadata": {},
   "source": [
    "结论2：用户月消费次数与金额的曲线大致相同，都是前三个月达到峰值（均值10000次左右）后断崖式下跌，\n",
    "而后趋于平稳（2500次左右）且有轻微下降趋势"
   ]
  },
  {
   "cell_type": "markdown",
   "metadata": {},
   "source": [
    "1.3 每月产品购买数量"
   ]
  },
  {
   "cell_type": "code",
   "execution_count": 14,
   "metadata": {},
   "outputs": [
    {
     "data": {
      "text/plain": [
       "<matplotlib.axes._subplots.AxesSubplot at 0x2332fc49cf8>"
      ]
     },
     "execution_count": 14,
     "metadata": {},
     "output_type": "execute_result"
    },
    {
     "data": {
      "image/png": "[encoded data removed]",
      "text/plain": [
       "<Figure size 432x288 with 1 Axes>"
      ]
     },
     "metadata": {},
     "output_type": "display_data"
    }
   ],
   "source": [
    "#月产品购买数量\n",
    "grouped_month.order_products.sum().plot()"
   ]
  },
  {
   "cell_type": "code",
   "execution_count": null,
   "metadata": {},
   "outputs": [],
   "source": [
    "结论3：消费产品的数量同样呈现早期购买量较多，后期下降趋于平稳的趋势"
   ]
  },
  {
   "cell_type": "markdown",
   "metadata": {},
   "source": [
    "1.4 每月 消费人数"
   ]
  },
  {
   "cell_type": "code",
   "execution_count": 15,
   "metadata": {},
   "outputs": [
    {
     "data": {
      "text/plain": [
       "<matplotlib.axes._subplots.AxesSubplot at 0x2333379d630>"
      ]
     },
     "execution_count": 15,
     "metadata": {},
     "output_type": "execute_result"
    },
    {
     "data": {
      "image/png": "[encoded data removed]",
      "text/plain": [
       "<Figure size 432x288 with 1 Axes>"
      ]
     },
     "metadata": {},
     "output_type": "display_data"
    }
   ],
   "source": [
    "\"\"\"\n",
    "先按月聚合 df.groupby('month')；\n",
    "duplicates去重；\n",
    "求去重个数 len(x.drop_duplicates())；\n",
    "\"\"\"\n",
    "grouped_month.user_id.apply(lambda x:len(x.drop_duplicates())).plot()\n",
    "#其他方法\n",
    "#df.groupby(['month','user_id']).count().reset_index()"
   ]
  },
  {
   "cell_type": "markdown",
   "metadata": {},
   "source": [
    "结论4：月消费人数（前三个月峰值不超过10000，平均在9000左右）小于月消费次数，但差异不大，说明出现了小范围的复购"
   ]
  },
  {
   "cell_type": "markdown",
   "metadata": {},
   "source": [
    "1.5 每月用户平均消费金额"
   ]
  },
  {
   "cell_type": "code",
   "execution_count": 16,
   "metadata": {
    "scrolled": true
   },
   "outputs": [
    {
     "data": {
      "text/plain": [
       "<matplotlib.axes._subplots.AxesSubplot at 0x2333384deb8>"
      ]
     },
     "execution_count": 16,
     "metadata": {},
     "output_type": "execute_result"
    },
    {
     "data": {
      "image/png": "[encoded data removed]",
      "text/plain": [
       "<Figure size 432x288 with 1 Axes>"
      ]
     },
     "metadata": {},
     "output_type": "display_data"
    }
   ],
   "source": [
    "#每月用户平均消费金额 = 月分组.总金额/用户数\n",
    "((grouped_month.order_amount.sum())/(grouped_month.user_id.apply(lambda x:len(x.drop_duplicates())))).plot()"
   ]
  },
  {
   "cell_type": "markdown",
   "metadata": {},
   "source": [
    "结论5：前三个月用户平均消费在40元左右，后续月份用户平均消费金额比前三个月提高一些，平均消费金额在[45,57.5]之间"
   ]
  },
  {
   "cell_type": "markdown",
   "metadata": {},
   "source": [
    "1.6 每月 用户平均消费次数"
   ]
  },
  {
   "cell_type": "code",
   "execution_count": 17,
   "metadata": {},
   "outputs": [
    {
     "data": {
      "text/plain": [
       "<matplotlib.axes._subplots.AxesSubplot at 0x233339ff438>"
      ]
     },
     "execution_count": 17,
     "metadata": {},
     "output_type": "execute_result"
    },
    {
     "data": {
      "image/png": "[encoded data removed]",
      "text/plain": [
       "<Figure size 432x288 with 1 Axes>"
      ]
     },
     "metadata": {},
     "output_type": "display_data"
    }
   ],
   "source": [
    "#每月用户平均消费次数的趋势  消费总次数/消费用户数\n",
    "((grouped_month.user_id.count())/(grouped_month.user_id.apply(lambda x:len(x.drop_duplicates())))).plot()"
   ]
  },
  {
   "cell_type": "markdown",
   "metadata": {},
   "source": [
    "结论6：前三个月月平均消费次数逐渐上升，后面在1.3-1.4次之间波动"
   ]
  },
  {
   "cell_type": "markdown",
   "metadata": {},
   "source": [
    "2.单个用户消费趋势分析"
   ]
  },
  {
   "cell_type": "code",
   "execution_count": 18,
   "metadata": {},
   "outputs": [
    {
     "data": {
      "text/html": [
       "<div>\n",
       "<style scoped>\n",
       "    .dataframe tbody tr th:only-of-type {\n",
       "        vertical-align: middle;\n",
       "    }\n",
       "\n",
       "    .dataframe tbody tr th {\n",
       "        vertical-align: top;\n",
       "    }\n",
       "\n",
       "    .dataframe thead th {\n",
       "        text-align: right;\n",
       "    }\n",
       "</style>\n",
       "<table border=\"1\" class=\"dataframe\">\n",
       "  <thead>\n",
       "    <tr style=\"text-align: right;\">\n",
       "      <th></th>\n",
       "      <th>order_products</th>\n",
       "      <th>order_amount</th>\n",
       "    </tr>\n",
       "  </thead>\n",
       "  <tbody>\n",
       "    <tr>\n",
       "      <th>count</th>\n",
       "      <td>23570.000000</td>\n",
       "      <td>23570.000000</td>\n",
       "    </tr>\n",
       "    <tr>\n",
       "      <th>mean</th>\n",
       "      <td>7.122656</td>\n",
       "      <td>106.080426</td>\n",
       "    </tr>\n",
       "    <tr>\n",
       "      <th>std</th>\n",
       "      <td>16.983531</td>\n",
       "      <td>240.925195</td>\n",
       "    </tr>\n",
       "    <tr>\n",
       "      <th>min</th>\n",
       "      <td>1.000000</td>\n",
       "      <td>0.000000</td>\n",
       "    </tr>\n",
       "    <tr>\n",
       "      <th>25%</th>\n",
       "      <td>1.000000</td>\n",
       "      <td>19.970000</td>\n",
       "    </tr>\n",
       "    <tr>\n",
       "      <th>50%</th>\n",
       "      <td>3.000000</td>\n",
       "      <td>43.395000</td>\n",
       "    </tr>\n",
       "    <tr>\n",
       "      <th>75%</th>\n",
       "      <td>7.000000</td>\n",
       "      <td>106.475000</td>\n",
       "    </tr>\n",
       "    <tr>\n",
       "      <th>max</th>\n",
       "      <td>1033.000000</td>\n",
       "      <td>13990.930000</td>\n",
       "    </tr>\n",
       "  </tbody>\n",
       "</table>\n",
       "</div>"
      ],
      "text/plain": [
       "       order_products  order_amount\n",
       "count    23570.000000  23570.000000\n",
       "mean         7.122656    106.080426\n",
       "std         16.983531    240.925195\n",
       "min          1.000000      0.000000\n",
       "25%          1.000000     19.970000\n",
       "50%          3.000000     43.395000\n",
       "75%          7.000000    106.475000\n",
       "max       1033.000000  13990.930000"
      ]
     },
     "execution_count": 18,
     "metadata": {},
     "output_type": "execute_result"
    }
   ],
   "source": [
    "#用户消费金额、消费次数的描述统计\n",
    "grouped_user = df.groupby('user_id')\n",
    "grouped_user.sum().describe()"
   ]
  },
  {
   "cell_type": "markdown",
   "metadata": {},
   "source": [
    "结论7：每个用户平均购买7件产品，中位数为3件，说明存在少量用户买了大量产品的情况对平均值结果进行了干扰，标准差为16，说明波动较大。"
   ]
  },
  {
   "cell_type": "code",
   "execution_count": 19,
   "metadata": {},
   "outputs": [
    {
     "data": {
      "text/plain": [
       "<matplotlib.axes._subplots.AxesSubplot at 0x23333a8aa20>"
      ]
     },
     "execution_count": 19,
     "metadata": {},
     "output_type": "execute_result"
    },
    {
     "data": {
      "image/png": "[encoded data removed]",
      "text/plain": [
       "<Figure size 432x288 with 1 Axes>"
      ]
     },
     "metadata": {},
     "output_type": "display_data"
    }
   ],
   "source": [
    "#用户消费金额和消费次数的散点图\n",
    "grouped_user.sum().plot.scatter(x = 'order_amount',y = 'order_products')"
   ]
  },
  {
   "cell_type": "code",
   "execution_count": null,
   "metadata": {},
   "outputs": [],
   "source": [
    "由以上散点图可知，大部分消费金额集中在4000内，4000以上的几个为极值，对结果影响较大，所以过滤掉该部分极值"
   ]
  },
  {
   "cell_type": "code",
   "execution_count": 20,
   "metadata": {},
   "outputs": [
    {
     "data": {
      "text/plain": [
       "<matplotlib.axes._subplots.AxesSubplot at 0x23333bfab70>"
      ]
     },
     "execution_count": 20,
     "metadata": {},
     "output_type": "execute_result"
    },
    {
     "data": {
      "image/png": "[encoded data removed]",
      "text/plain": [
       "<Figure size 432x288 with 1 Axes>"
      ]
     },
     "metadata": {},
     "output_type": "display_data"
    }
   ],
   "source": [
    "grouped_user.sum().query('order_amount < 4000').plot.scatter(x = 'order_amount',y = 'order_products')"
   ]
  },
  {
   "cell_type": "code",
   "execution_count": null,
   "metadata": {},
   "outputs": [],
   "source": [
    "结论8：由以上过滤后的散点图可知，消费金额和消费产品数呈线性趋势，说明产品的价格（价格=金额/数量）比较平均、稳定"
   ]
  },
  {
   "cell_type": "code",
   "execution_count": 21,
   "metadata": {},
   "outputs": [
    {
     "data": {
      "text/plain": [
       "<matplotlib.axes._subplots.AxesSubplot at 0x23334037c88>"
      ]
     },
     "execution_count": 21,
     "metadata": {},
     "output_type": "execute_result"
    },
    {
     "data": {
      "image/png": "[encoded data removed]",
      "text/plain": [
       "<Figure size 432x288 with 1 Axes>"
      ]
     },
     "metadata": {},
     "output_type": "display_data"
    }
   ],
   "source": [
    "#用户消费金额的分布图\n",
    "# 用户消费金额的分布图 （直方图） bins = 20 将x值平均分成20份 \n",
    "grouped_user.sum().order_amount.hist(bins = 20)"
   ]
  },
  {
   "cell_type": "code",
   "execution_count": null,
   "metadata": {},
   "outputs": [],
   "source": [
    "结论9：由以上直方图可知，绝大多数用户消费金额呈集中趋势，小部分异常值干扰了判断"
   ]
  },
  {
   "cell_type": "code",
   "execution_count": 22,
   "metadata": {},
   "outputs": [
    {
     "data": {
      "text/plain": [
       "<matplotlib.axes._subplots.AxesSubplot at 0x233340c2d30>"
      ]
     },
     "execution_count": 22,
     "metadata": {},
     "output_type": "execute_result"
    },
    {
     "data": {
      "image/png": "[encoded data removed]",
      "text/plain": [
       "<Figure size 576x360 with 1 Axes>"
      ]
     },
     "metadata": {},
     "output_type": "display_data"
    }
   ],
   "source": [
    "#用户消费次数的分布图\n",
    "\n",
    "#调整图表尺寸\n",
    "plt.figure(figsize=(8,5))\n",
    "#为避免极值干扰结果，中间使用query函数过滤掉极值\n",
    "grouped_user.count().query('order_products < 100').order_products.hist(bins = 40)\n",
    "#过滤值选择数值100的理由：由切比雪夫定理，即95%的数据集中在距离平均数5个标准差之内\n",
    "\n",
    "#（由2.1的描述统计表 消费产品数平均值为7，标准差为17 所以上限=7+17*5 约为100）"
   ]
  },
  {
   "cell_type": "code",
   "execution_count": null,
   "metadata": {},
   "outputs": [],
   "source": [
    "结论10：从直方图看，大部分用户的消费能力确实不高，大多只消费了一次或两次，高消费用户在图上几乎看不到，这也确实符合消费行为的行业规律，即“二八法则”"
   ]
  },
  {
   "cell_type": "code",
   "execution_count": 23,
   "metadata": {},
   "outputs": [
    {
     "data": {
      "text/plain": [
       "<matplotlib.axes._subplots.AxesSubplot at 0x233341e2278>"
      ]
     },
     "execution_count": 23,
     "metadata": {},
     "output_type": "execute_result"
    },
    {
     "data": {
      "image/png": "[encoded data removed]",
      "text/plain": [
       "<Figure size 432x288 with 1 Axes>"
      ]
     },
     "metadata": {},
     "output_type": "display_data"
    }
   ],
   "source": [
    "#用户累计消费金额占比（百分之多少的用户占了百分之多少的消费额）\n",
    "# 按用户分组并求和,再对订单金额进行排序(默认从小到大),最后通过匿名函数对每一行进行累计求和占比\n",
    "user_cumsum = grouped_user.sum().sort_values('order_amount').apply(lambda x:x.cumsum()/ x.sum())\n",
    "user_cumsum.order_amount.cumsum()/user_cumsum.order_amount.sum()\n",
    "#对计算后的用户消费金额重新排序后绘图\n",
    "user_cumsum.reset_index().order_amount.plot()"
   ]
  },
  {
   "cell_type": "markdown",
   "metadata": {},
   "source": [
    "结论11：按用户的消费金额进行升序排序，50%的用户仅贡献了15%的消费额度。而排名前5000的用户就贡献了60%的消费额"
   ]
  },
  {
   "cell_type": "markdown",
   "metadata": {},
   "source": [
    "3.用户消费行为"
   ]
  },
  {
   "cell_type": "code",
   "execution_count": 24,
   "metadata": {},
   "outputs": [
    {
     "data": {
      "text/plain": [
       "<matplotlib.axes._subplots.AxesSubplot at 0x2333414b240>"
      ]
     },
     "execution_count": 24,
     "metadata": {},
     "output_type": "execute_result"
    },
    {
     "data": {
      "image/png": "[encoded data removed]",
      "text/plain": [
       "<Figure size 576x360 with 1 Axes>"
      ]
     },
     "metadata": {},
     "output_type": "display_data"
    }
   ],
   "source": [
    "#用户第一次消费分布（首购）\n",
    "plt.figure(figsize=(8,5))\n",
    "grouped_user.min().order_dt.value_counts().plot()"
   ]
  },
  {
   "cell_type": "markdown",
   "metadata": {},
   "source": [
    "结论12：运营前3个月首购人数呈上升趋势，直至2月7日左右出现明显下跌后首购人数开始呈下降趋势，猜想：有可能是2月份对新人的活动力度减弱了？被什么节日影响？"
   ]
  },
  {
   "cell_type": "code",
   "execution_count": 25,
   "metadata": {},
   "outputs": [
    {
     "data": {
      "text/plain": [
       "<matplotlib.axes._subplots.AxesSubplot at 0x2333426a9e8>"
      ]
     },
     "execution_count": 25,
     "metadata": {},
     "output_type": "execute_result"
    },
    {
     "data": {
      "image/png": "[encoded data removed]",
      "text/plain": [
       "<Figure size 432x288 with 1 Axes>"
      ]
     },
     "metadata": {},
     "output_type": "display_data"
    }
   ],
   "source": [
    "#用户最后一次消费\n",
    "grouped_user.max().order_dt.value_counts().plot()"
   ]
  },
  {
   "cell_type": "markdown",
   "metadata": {},
   "source": [
    "结论13：用户最后一次购买的分布比第一次分布广，大部分用户最后一次购买集中在前三个月，到第三个月时出现断崖式下跌，\n",
    "猜想前三个月第一次消费与最后一次消费的人是同一批人，即只消费了一次的那部分用户\n",
    "结论14：随着时间递增，最后一次购买数也在递增，消费呈现流失上升的状况"
   ]
  },
  {
   "cell_type": "code",
   "execution_count": null,
   "metadata": {},
   "outputs": [],
   "source": [
    "3.3 新老客消费分析\n",
    "3.3.1多少用户仅消费了一次？"
   ]
  },
  {
   "cell_type": "code",
   "execution_count": 26,
   "metadata": {},
   "outputs": [
    {
     "data": {
      "text/html": [
       "<div>\n",
       "<style scoped>\n",
       "    .dataframe tbody tr th:only-of-type {\n",
       "        vertical-align: middle;\n",
       "    }\n",
       "\n",
       "    .dataframe tbody tr th {\n",
       "        vertical-align: top;\n",
       "    }\n",
       "\n",
       "    .dataframe thead th {\n",
       "        text-align: right;\n",
       "    }\n",
       "</style>\n",
       "<table border=\"1\" class=\"dataframe\">\n",
       "  <thead>\n",
       "    <tr style=\"text-align: right;\">\n",
       "      <th></th>\n",
       "      <th>min</th>\n",
       "      <th>max</th>\n",
       "    </tr>\n",
       "    <tr>\n",
       "      <th>user_id</th>\n",
       "      <th></th>\n",
       "      <th></th>\n",
       "    </tr>\n",
       "  </thead>\n",
       "  <tbody>\n",
       "    <tr>\n",
       "      <th>1</th>\n",
       "      <td>1997-01-01</td>\n",
       "      <td>1997-01-01</td>\n",
       "    </tr>\n",
       "    <tr>\n",
       "      <th>2</th>\n",
       "      <td>1997-01-12</td>\n",
       "      <td>1997-01-12</td>\n",
       "    </tr>\n",
       "    <tr>\n",
       "      <th>3</th>\n",
       "      <td>1997-01-02</td>\n",
       "      <td>1998-05-28</td>\n",
       "    </tr>\n",
       "    <tr>\n",
       "      <th>4</th>\n",
       "      <td>1997-01-01</td>\n",
       "      <td>1997-12-12</td>\n",
       "    </tr>\n",
       "    <tr>\n",
       "      <th>5</th>\n",
       "      <td>1997-01-01</td>\n",
       "      <td>1998-01-03</td>\n",
       "    </tr>\n",
       "  </tbody>\n",
       "</table>\n",
       "</div>"
      ],
      "text/plain": [
       "               min        max\n",
       "user_id                      \n",
       "1       1997-01-01 1997-01-01\n",
       "2       1997-01-12 1997-01-12\n",
       "3       1997-01-02 1998-05-28\n",
       "4       1997-01-01 1997-12-12\n",
       "5       1997-01-01 1998-01-03"
      ]
     },
     "execution_count": 26,
     "metadata": {},
     "output_type": "execute_result"
    }
   ],
   "source": [
    "user_life = grouped_user.order_dt.agg(['min','max'])\n",
    "user_life.head()"
   ]
  },
  {
   "cell_type": "code",
   "execution_count": 27,
   "metadata": {},
   "outputs": [
    {
     "data": {
      "text/plain": [
       "True     12054\n",
       "False    11516\n",
       "dtype: int64"
      ]
     },
     "execution_count": 27,
     "metadata": {},
     "output_type": "execute_result"
    }
   ],
   "source": [
    "# 最早消费时间与最后消费时间一致表示只消费了一次，显示为True\n",
    "(user_life['min'] == user_life['max']).value_counts()"
   ]
  },
  {
   "cell_type": "markdown",
   "metadata": {},
   "source": [
    "结论14：超过一半的用户就只消费了一次"
   ]
  },
  {
   "cell_type": "markdown",
   "metadata": {},
   "source": [
    "3.3.2 每月新客占比？"
   ]
  },
  {
   "cell_type": "code",
   "execution_count": 28,
   "metadata": {},
   "outputs": [
    {
     "data": {
      "text/plain": [
       "<matplotlib.axes._subplots.AxesSubplot at 0x233343239e8>"
      ]
     },
     "execution_count": 28,
     "metadata": {},
     "output_type": "execute_result"
    },
    {
     "data": {
      "image/png": "[encoded data removed]",
      "text/plain": [
       "<Figure size 432x288 with 1 Axes>"
      ]
     },
     "metadata": {},
     "output_type": "display_data"
    }
   ],
   "source": [
    "#按月份和用户ID分组\n",
    "grouped_month_user=df.groupby(['month','user_id'])\n",
    "\n",
    "#将当月用户订单日期最小值 与 用户订单日期最小值 联结\n",
    "tmp=grouped_month_user.order_dt.agg(['min']).join(grouped_user.order_dt.min())\n",
    "\n",
    "# 判断用户当月订单日期最小值是否与用户订单日期最小值相等，新建字段old,old代表老客户\n",
    "tmp['old']=(tmp['min']==tmp.order_dt)\n",
    "\n",
    "# 重置索引列,并按月分组,作新客占比折线图\n",
    "tmp.reset_index().groupby('month').old.apply(lambda x: x.sum()/x.count()).plot()"
   ]
  },
  {
   "cell_type": "markdown",
   "metadata": {},
   "source": [
    "3.4 用户分层\n",
    "3.4.1 RFM，"
   ]
  },
  {
   "cell_type": "code",
   "execution_count": 29,
   "metadata": {},
   "outputs": [
    {
     "data": {
      "text/html": [
       "<div>\n",
       "<style scoped>\n",
       "    .dataframe tbody tr th:only-of-type {\n",
       "        vertical-align: middle;\n",
       "    }\n",
       "\n",
       "    .dataframe tbody tr th {\n",
       "        vertical-align: top;\n",
       "    }\n",
       "\n",
       "    .dataframe thead th {\n",
       "        text-align: right;\n",
       "    }\n",
       "</style>\n",
       "<table border=\"1\" class=\"dataframe\">\n",
       "  <thead>\n",
       "    <tr style=\"text-align: right;\">\n",
       "      <th></th>\n",
       "      <th>order_amount</th>\n",
       "      <th>order_dt</th>\n",
       "      <th>order_products</th>\n",
       "    </tr>\n",
       "    <tr>\n",
       "      <th>user_id</th>\n",
       "      <th></th>\n",
       "      <th></th>\n",
       "      <th></th>\n",
       "    </tr>\n",
       "  </thead>\n",
       "  <tbody>\n",
       "    <tr>\n",
       "      <th>1</th>\n",
       "      <td>11.77</td>\n",
       "      <td>1997-01-01</td>\n",
       "      <td>1</td>\n",
       "    </tr>\n",
       "    <tr>\n",
       "      <th>2</th>\n",
       "      <td>89.00</td>\n",
       "      <td>1997-01-12</td>\n",
       "      <td>6</td>\n",
       "    </tr>\n",
       "    <tr>\n",
       "      <th>3</th>\n",
       "      <td>156.46</td>\n",
       "      <td>1998-05-28</td>\n",
       "      <td>16</td>\n",
       "    </tr>\n",
       "    <tr>\n",
       "      <th>4</th>\n",
       "      <td>100.50</td>\n",
       "      <td>1997-12-12</td>\n",
       "      <td>7</td>\n",
       "    </tr>\n",
       "    <tr>\n",
       "      <th>5</th>\n",
       "      <td>385.61</td>\n",
       "      <td>1998-01-03</td>\n",
       "      <td>29</td>\n",
       "    </tr>\n",
       "  </tbody>\n",
       "</table>\n",
       "</div>"
      ],
      "text/plain": [
       "         order_amount   order_dt  order_products\n",
       "user_id                                         \n",
       "1               11.77 1997-01-01               1\n",
       "2               89.00 1997-01-12               6\n",
       "3              156.46 1998-05-28              16\n",
       "4              100.50 1997-12-12               7\n",
       "5              385.61 1998-01-03              29"
      ]
     },
     "execution_count": 29,
     "metadata": {},
     "output_type": "execute_result"
    }
   ],
   "source": [
    "#新建数据透视表\n",
    "RFM = df.pivot_table(index = 'user_id',\n",
    "                     values= ['order_products','order_amount','order_dt'],\n",
    "                     aggfunc = {'order_dt':'max',\n",
    "                               'order_amount':'sum',\n",
    "                               'order_products':'sum'\n",
    "                               })\n",
    "RFM.head()"
   ]
  },
  {
   "cell_type": "code",
   "execution_count": 30,
   "metadata": {},
   "outputs": [],
   "source": [
    "#定义参数R \n",
    "RFM['R']=-(RFM.order_dt - RFM.order_dt.max()) / np.timedelta64(1,'D')\n",
    "RFM.rename(columns = {'order_products':'F','order_amount':'M'},inplace = True)"
   ]
  },
  {
   "cell_type": "markdown",
   "metadata": {},
   "source": [
    "R:最后一次消费距离统计日期之间的天数，天数越小代表用户价值越高\n",
    "F:消费总商品数，越大用户价值越高\n",
    "M:消费总金额，越大用户价值越高"
   ]
  },
  {
   "cell_type": "code",
   "execution_count": 31,
   "metadata": {
    "collapsed": true
   },
   "outputs": [
    {
     "data": {
      "text/html": [
       "<div>\n",
       "<style scoped>\n",
       "    .dataframe tbody tr th:only-of-type {\n",
       "        vertical-align: middle;\n",
       "    }\n",
       "\n",
       "    .dataframe tbody tr th {\n",
       "        vertical-align: top;\n",
       "    }\n",
       "\n",
       "    .dataframe thead th {\n",
       "        text-align: right;\n",
       "    }\n",
       "</style>\n",
       "<table border=\"1\" class=\"dataframe\">\n",
       "  <thead>\n",
       "    <tr style=\"text-align: right;\">\n",
       "      <th></th>\n",
       "      <th>R</th>\n",
       "      <th>F</th>\n",
       "      <th>M</th>\n",
       "    </tr>\n",
       "    <tr>\n",
       "      <th>user_id</th>\n",
       "      <th></th>\n",
       "      <th></th>\n",
       "      <th></th>\n",
       "    </tr>\n",
       "  </thead>\n",
       "  <tbody>\n",
       "    <tr>\n",
       "      <th>1</th>\n",
       "      <td>177.778362</td>\n",
       "      <td>-6.122656</td>\n",
       "      <td>-94.310426</td>\n",
       "    </tr>\n",
       "    <tr>\n",
       "      <th>2</th>\n",
       "      <td>166.778362</td>\n",
       "      <td>-1.122656</td>\n",
       "      <td>-17.080426</td>\n",
       "    </tr>\n",
       "    <tr>\n",
       "      <th>3</th>\n",
       "      <td>-334.221638</td>\n",
       "      <td>8.877344</td>\n",
       "      <td>50.379574</td>\n",
       "    </tr>\n",
       "    <tr>\n",
       "      <th>4</th>\n",
       "      <td>-167.221638</td>\n",
       "      <td>-0.122656</td>\n",
       "      <td>-5.580426</td>\n",
       "    </tr>\n",
       "    <tr>\n",
       "      <th>5</th>\n",
       "      <td>-189.221638</td>\n",
       "      <td>21.877344</td>\n",
       "      <td>279.529574</td>\n",
       "    </tr>\n",
       "    <tr>\n",
       "      <th>6</th>\n",
       "      <td>177.778362</td>\n",
       "      <td>-6.122656</td>\n",
       "      <td>-85.090426</td>\n",
       "    </tr>\n",
       "    <tr>\n",
       "      <th>7</th>\n",
       "      <td>-267.221638</td>\n",
       "      <td>10.877344</td>\n",
       "      <td>158.589574</td>\n",
       "    </tr>\n",
       "    <tr>\n",
       "      <th>8</th>\n",
       "      <td>-274.221638</td>\n",
       "      <td>10.877344</td>\n",
       "      <td>91.579574</td>\n",
       "    </tr>\n",
       "    <tr>\n",
       "      <th>9</th>\n",
       "      <td>-345.221638</td>\n",
       "      <td>-1.122656</td>\n",
       "      <td>-10.230426</td>\n",
       "    </tr>\n",
       "    <tr>\n",
       "      <th>10</th>\n",
       "      <td>157.778362</td>\n",
       "      <td>-4.122656</td>\n",
       "      <td>-66.770426</td>\n",
       "    </tr>\n",
       "    <tr>\n",
       "      <th>11</th>\n",
       "      <td>-237.221638</td>\n",
       "      <td>-3.122656</td>\n",
       "      <td>-47.530426</td>\n",
       "    </tr>\n",
       "    <tr>\n",
       "      <th>12</th>\n",
       "      <td>177.778362</td>\n",
       "      <td>-3.122656</td>\n",
       "      <td>-49.020426</td>\n",
       "    </tr>\n",
       "    <tr>\n",
       "      <th>13</th>\n",
       "      <td>177.778362</td>\n",
       "      <td>-3.122656</td>\n",
       "      <td>-33.140426</td>\n",
       "    </tr>\n",
       "    <tr>\n",
       "      <th>14</th>\n",
       "      <td>177.778362</td>\n",
       "      <td>-5.122656</td>\n",
       "      <td>-76.160426</td>\n",
       "    </tr>\n",
       "    <tr>\n",
       "      <th>15</th>\n",
       "      <td>177.778362</td>\n",
       "      <td>-3.122656</td>\n",
       "      <td>-53.210426</td>\n",
       "    </tr>\n",
       "    <tr>\n",
       "      <th>16</th>\n",
       "      <td>-74.221638</td>\n",
       "      <td>0.877344</td>\n",
       "      <td>-26.210426</td>\n",
       "    </tr>\n",
       "    <tr>\n",
       "      <th>17</th>\n",
       "      <td>177.778362</td>\n",
       "      <td>-2.122656</td>\n",
       "      <td>-32.860426</td>\n",
       "    </tr>\n",
       "    <tr>\n",
       "      <th>18</th>\n",
       "      <td>174.778362</td>\n",
       "      <td>-6.122656</td>\n",
       "      <td>-91.120426</td>\n",
       "    </tr>\n",
       "    <tr>\n",
       "      <th>19</th>\n",
       "      <td>17.778362</td>\n",
       "      <td>3.877344</td>\n",
       "      <td>69.039574</td>\n",
       "    </tr>\n",
       "    <tr>\n",
       "      <th>20</th>\n",
       "      <td>160.778362</td>\n",
       "      <td>38.877344</td>\n",
       "      <td>546.929574</td>\n",
       "    </tr>\n",
       "    <tr>\n",
       "      <th>21</th>\n",
       "      <td>165.778362</td>\n",
       "      <td>-3.122656</td>\n",
       "      <td>-30.970426</td>\n",
       "    </tr>\n",
       "    <tr>\n",
       "      <th>22</th>\n",
       "      <td>177.778362</td>\n",
       "      <td>-6.122656</td>\n",
       "      <td>-91.710426</td>\n",
       "    </tr>\n",
       "    <tr>\n",
       "      <th>23</th>\n",
       "      <td>177.778362</td>\n",
       "      <td>-5.122656</td>\n",
       "      <td>-81.340426</td>\n",
       "    </tr>\n",
       "    <tr>\n",
       "      <th>24</th>\n",
       "      <td>-206.221638</td>\n",
       "      <td>-3.122656</td>\n",
       "      <td>-48.310426</td>\n",
       "    </tr>\n",
       "    <tr>\n",
       "      <th>25</th>\n",
       "      <td>-345.221638</td>\n",
       "      <td>4.877344</td>\n",
       "      <td>31.449574</td>\n",
       "    </tr>\n",
       "    <tr>\n",
       "      <th>26</th>\n",
       "      <td>152.778362</td>\n",
       "      <td>-1.122656</td>\n",
       "      <td>-3.390426</td>\n",
       "    </tr>\n",
       "    <tr>\n",
       "      <th>27</th>\n",
       "      <td>166.778362</td>\n",
       "      <td>2.877344</td>\n",
       "      <td>29.789574</td>\n",
       "    </tr>\n",
       "    <tr>\n",
       "      <th>28</th>\n",
       "      <td>111.778362</td>\n",
       "      <td>-0.122656</td>\n",
       "      <td>-15.090426</td>\n",
       "    </tr>\n",
       "    <tr>\n",
       "      <th>29</th>\n",
       "      <td>-302.221638</td>\n",
       "      <td>20.877344</td>\n",
       "      <td>329.729574</td>\n",
       "    </tr>\n",
       "    <tr>\n",
       "      <th>30</th>\n",
       "      <td>133.778362</td>\n",
       "      <td>-5.122656</td>\n",
       "      <td>-77.740426</td>\n",
       "    </tr>\n",
       "    <tr>\n",
       "      <th>...</th>\n",
       "      <td>...</td>\n",
       "      <td>...</td>\n",
       "      <td>...</td>\n",
       "    </tr>\n",
       "    <tr>\n",
       "      <th>23541</th>\n",
       "      <td>86.778362</td>\n",
       "      <td>-5.122656</td>\n",
       "      <td>-48.740426</td>\n",
       "    </tr>\n",
       "    <tr>\n",
       "      <th>23542</th>\n",
       "      <td>94.778362</td>\n",
       "      <td>-2.122656</td>\n",
       "      <td>-28.650426</td>\n",
       "    </tr>\n",
       "    <tr>\n",
       "      <th>23543</th>\n",
       "      <td>94.778362</td>\n",
       "      <td>-5.122656</td>\n",
       "      <td>-55.320426</td>\n",
       "    </tr>\n",
       "    <tr>\n",
       "      <th>23544</th>\n",
       "      <td>-210.221638</td>\n",
       "      <td>4.877344</td>\n",
       "      <td>28.549574</td>\n",
       "    </tr>\n",
       "    <tr>\n",
       "      <th>23545</th>\n",
       "      <td>94.778362</td>\n",
       "      <td>-6.122656</td>\n",
       "      <td>-81.090426</td>\n",
       "    </tr>\n",
       "    <tr>\n",
       "      <th>23546</th>\n",
       "      <td>94.778362</td>\n",
       "      <td>-6.122656</td>\n",
       "      <td>-92.110426</td>\n",
       "    </tr>\n",
       "    <tr>\n",
       "      <th>23547</th>\n",
       "      <td>81.778362</td>\n",
       "      <td>-5.122656</td>\n",
       "      <td>-82.540426</td>\n",
       "    </tr>\n",
       "    <tr>\n",
       "      <th>23548</th>\n",
       "      <td>94.778362</td>\n",
       "      <td>-5.122656</td>\n",
       "      <td>-82.540426</td>\n",
       "    </tr>\n",
       "    <tr>\n",
       "      <th>23549</th>\n",
       "      <td>94.778362</td>\n",
       "      <td>-5.122656</td>\n",
       "      <td>-78.950426</td>\n",
       "    </tr>\n",
       "    <tr>\n",
       "      <th>23550</th>\n",
       "      <td>94.778362</td>\n",
       "      <td>-5.122656</td>\n",
       "      <td>-80.800426</td>\n",
       "    </tr>\n",
       "    <tr>\n",
       "      <th>23551</th>\n",
       "      <td>-75.221638</td>\n",
       "      <td>4.877344</td>\n",
       "      <td>158.549574</td>\n",
       "    </tr>\n",
       "    <tr>\n",
       "      <th>23552</th>\n",
       "      <td>85.778362</td>\n",
       "      <td>-3.122656</td>\n",
       "      <td>-56.700426</td>\n",
       "    </tr>\n",
       "    <tr>\n",
       "      <th>23553</th>\n",
       "      <td>91.778362</td>\n",
       "      <td>0.877344</td>\n",
       "      <td>-7.500426</td>\n",
       "    </tr>\n",
       "    <tr>\n",
       "      <th>23554</th>\n",
       "      <td>-218.221638</td>\n",
       "      <td>-4.122656</td>\n",
       "      <td>-69.710426</td>\n",
       "    </tr>\n",
       "    <tr>\n",
       "      <th>23555</th>\n",
       "      <td>-347.221638</td>\n",
       "      <td>6.877344</td>\n",
       "      <td>83.099574</td>\n",
       "    </tr>\n",
       "    <tr>\n",
       "      <th>23556</th>\n",
       "      <td>-344.221638</td>\n",
       "      <td>7.877344</td>\n",
       "      <td>96.919574</td>\n",
       "    </tr>\n",
       "    <tr>\n",
       "      <th>23557</th>\n",
       "      <td>94.778362</td>\n",
       "      <td>-6.122656</td>\n",
       "      <td>-91.710426</td>\n",
       "    </tr>\n",
       "    <tr>\n",
       "      <th>23558</th>\n",
       "      <td>-242.221638</td>\n",
       "      <td>3.877344</td>\n",
       "      <td>39.519574</td>\n",
       "    </tr>\n",
       "    <tr>\n",
       "      <th>23559</th>\n",
       "      <td>0.778362</td>\n",
       "      <td>0.877344</td>\n",
       "      <td>5.569574</td>\n",
       "    </tr>\n",
       "    <tr>\n",
       "      <th>23560</th>\n",
       "      <td>94.778362</td>\n",
       "      <td>-6.122656</td>\n",
       "      <td>-87.720426</td>\n",
       "    </tr>\n",
       "    <tr>\n",
       "      <th>23561</th>\n",
       "      <td>-335.221638</td>\n",
       "      <td>-1.122656</td>\n",
       "      <td>-22.620426</td>\n",
       "    </tr>\n",
       "    <tr>\n",
       "      <th>23562</th>\n",
       "      <td>94.778362</td>\n",
       "      <td>-5.122656</td>\n",
       "      <td>-76.750426</td>\n",
       "    </tr>\n",
       "    <tr>\n",
       "      <th>23563</th>\n",
       "      <td>-98.221638</td>\n",
       "      <td>-4.122656</td>\n",
       "      <td>-47.330426</td>\n",
       "    </tr>\n",
       "    <tr>\n",
       "      <th>23564</th>\n",
       "      <td>-155.221638</td>\n",
       "      <td>-2.122656</td>\n",
       "      <td>-36.070426</td>\n",
       "    </tr>\n",
       "    <tr>\n",
       "      <th>23565</th>\n",
       "      <td>94.778362</td>\n",
       "      <td>-6.122656</td>\n",
       "      <td>-94.310426</td>\n",
       "    </tr>\n",
       "    <tr>\n",
       "      <th>23566</th>\n",
       "      <td>94.778362</td>\n",
       "      <td>-5.122656</td>\n",
       "      <td>-70.080426</td>\n",
       "    </tr>\n",
       "    <tr>\n",
       "      <th>23567</th>\n",
       "      <td>94.778362</td>\n",
       "      <td>-6.122656</td>\n",
       "      <td>-85.110426</td>\n",
       "    </tr>\n",
       "    <tr>\n",
       "      <th>23568</th>\n",
       "      <td>66.778362</td>\n",
       "      <td>-1.122656</td>\n",
       "      <td>15.619574</td>\n",
       "    </tr>\n",
       "    <tr>\n",
       "      <th>23569</th>\n",
       "      <td>94.778362</td>\n",
       "      <td>-5.122656</td>\n",
       "      <td>-80.340426</td>\n",
       "    </tr>\n",
       "    <tr>\n",
       "      <th>23570</th>\n",
       "      <td>93.778362</td>\n",
       "      <td>-2.122656</td>\n",
       "      <td>-12.000426</td>\n",
       "    </tr>\n",
       "  </tbody>\n",
       "</table>\n",
       "<p>23570 rows × 3 columns</p>\n",
       "</div>"
      ],
      "text/plain": [
       "                  R          F           M\n",
       "user_id                                   \n",
       "1        177.778362  -6.122656  -94.310426\n",
       "2        166.778362  -1.122656  -17.080426\n",
       "3       -334.221638   8.877344   50.379574\n",
       "4       -167.221638  -0.122656   -5.580426\n",
       "5       -189.221638  21.877344  279.529574\n",
       "6        177.778362  -6.122656  -85.090426\n",
       "7       -267.221638  10.877344  158.589574\n",
       "8       -274.221638  10.877344   91.579574\n",
       "9       -345.221638  -1.122656  -10.230426\n",
       "10       157.778362  -4.122656  -66.770426\n",
       "11      -237.221638  -3.122656  -47.530426\n",
       "12       177.778362  -3.122656  -49.020426\n",
       "13       177.778362  -3.122656  -33.140426\n",
       "14       177.778362  -5.122656  -76.160426\n",
       "15       177.778362  -3.122656  -53.210426\n",
       "16       -74.221638   0.877344  -26.210426\n",
       "17       177.778362  -2.122656  -32.860426\n",
       "18       174.778362  -6.122656  -91.120426\n",
       "19        17.778362   3.877344   69.039574\n",
       "20       160.778362  38.877344  546.929574\n",
       "21       165.778362  -3.122656  -30.970426\n",
       "22       177.778362  -6.122656  -91.710426\n",
       "23       177.778362  -5.122656  -81.340426\n",
       "24      -206.221638  -3.122656  -48.310426\n",
       "25      -345.221638   4.877344   31.449574\n",
       "26       152.778362  -1.122656   -3.390426\n",
       "27       166.778362   2.877344   29.789574\n",
       "28       111.778362  -0.122656  -15.090426\n",
       "29      -302.221638  20.877344  329.729574\n",
       "30       133.778362  -5.122656  -77.740426\n",
       "...             ...        ...         ...\n",
       "23541     86.778362  -5.122656  -48.740426\n",
       "23542     94.778362  -2.122656  -28.650426\n",
       "23543     94.778362  -5.122656  -55.320426\n",
       "23544   -210.221638   4.877344   28.549574\n",
       "23545     94.778362  -6.122656  -81.090426\n",
       "23546     94.778362  -6.122656  -92.110426\n",
       "23547     81.778362  -5.122656  -82.540426\n",
       "23548     94.778362  -5.122656  -82.540426\n",
       "23549     94.778362  -5.122656  -78.950426\n",
       "23550     94.778362  -5.122656  -80.800426\n",
       "23551    -75.221638   4.877344  158.549574\n",
       "23552     85.778362  -3.122656  -56.700426\n",
       "23553     91.778362   0.877344   -7.500426\n",
       "23554   -218.221638  -4.122656  -69.710426\n",
       "23555   -347.221638   6.877344   83.099574\n",
       "23556   -344.221638   7.877344   96.919574\n",
       "23557     94.778362  -6.122656  -91.710426\n",
       "23558   -242.221638   3.877344   39.519574\n",
       "23559      0.778362   0.877344    5.569574\n",
       "23560     94.778362  -6.122656  -87.720426\n",
       "23561   -335.221638  -1.122656  -22.620426\n",
       "23562     94.778362  -5.122656  -76.750426\n",
       "23563    -98.221638  -4.122656  -47.330426\n",
       "23564   -155.221638  -2.122656  -36.070426\n",
       "23565     94.778362  -6.122656  -94.310426\n",
       "23566     94.778362  -5.122656  -70.080426\n",
       "23567     94.778362  -6.122656  -85.110426\n",
       "23568     66.778362  -1.122656   15.619574\n",
       "23569     94.778362  -5.122656  -80.340426\n",
       "23570     93.778362  -2.122656  -12.000426\n",
       "\n",
       "[23570 rows x 3 columns]"
      ]
     },
     "execution_count": 31,
     "metadata": {},
     "output_type": "execute_result"
    }
   ],
   "source": [
    "#匿名函数，分别计算R F M 与平均值之间的差 \n",
    "RFM[['R','F','M']].apply(lambda x:x-x.mean())"
   ]
  },
  {
   "cell_type": "code",
   "execution_count": 32,
   "metadata": {},
   "outputs": [],
   "source": [
    "# 定义用户八个层级，根据业务定义打分\n",
    "def rfm_func(x):\n",
    "    level = x.apply(lambda x:'1' if x>=0 else '0')\n",
    "    #label标签,  字符串拼接 '+'\n",
    "    label = level.R + level.F + level.M\n",
    "    d = {\n",
    "        '111':'重要价值客户',\n",
    "        '011':'重要保持客户',\n",
    "        '101':'重要挽留客户',\n",
    "        '001':'重要发展客户',\n",
    "        '110':'一般价值客户',\n",
    "        '010':'一般保持客户',\n",
    "        '100':'一般挽留客户',\n",
    "        '000':'一般发展客户'\n",
    "    }\n",
    "    result = d[label]\n",
    "    return result\n",
    "RFM['label'] = RFM[['R','F','M']].apply(lambda x:x-x.mean()).apply(rfm_func,axis =1)"
   ]
  },
  {
   "cell_type": "code",
   "execution_count": 33,
   "metadata": {},
   "outputs": [
    {
     "data": {
      "text/html": [
       "<div>\n",
       "<style scoped>\n",
       "    .dataframe tbody tr th:only-of-type {\n",
       "        vertical-align: middle;\n",
       "    }\n",
       "\n",
       "    .dataframe tbody tr th {\n",
       "        vertical-align: top;\n",
       "    }\n",
       "\n",
       "    .dataframe thead th {\n",
       "        text-align: right;\n",
       "    }\n",
       "</style>\n",
       "<table border=\"1\" class=\"dataframe\">\n",
       "  <thead>\n",
       "    <tr style=\"text-align: right;\">\n",
       "      <th></th>\n",
       "      <th>M</th>\n",
       "      <th>F</th>\n",
       "      <th>R</th>\n",
       "    </tr>\n",
       "    <tr>\n",
       "      <th>label</th>\n",
       "      <th></th>\n",
       "      <th></th>\n",
       "      <th></th>\n",
       "    </tr>\n",
       "  </thead>\n",
       "  <tbody>\n",
       "    <tr>\n",
       "      <th>一般价值客户</th>\n",
       "      <td>7181.28</td>\n",
       "      <td>650</td>\n",
       "      <td>36295.0</td>\n",
       "    </tr>\n",
       "    <tr>\n",
       "      <th>一般保持客户</th>\n",
       "      <td>19937.45</td>\n",
       "      <td>1712</td>\n",
       "      <td>29448.0</td>\n",
       "    </tr>\n",
       "    <tr>\n",
       "      <th>一般发展客户</th>\n",
       "      <td>196971.23</td>\n",
       "      <td>13977</td>\n",
       "      <td>591108.0</td>\n",
       "    </tr>\n",
       "    <tr>\n",
       "      <th>一般挽留客户</th>\n",
       "      <td>438291.81</td>\n",
       "      <td>29346</td>\n",
       "      <td>6951815.0</td>\n",
       "    </tr>\n",
       "    <tr>\n",
       "      <th>重要价值客户</th>\n",
       "      <td>167080.83</td>\n",
       "      <td>11121</td>\n",
       "      <td>358363.0</td>\n",
       "    </tr>\n",
       "    <tr>\n",
       "      <th>重要保持客户</th>\n",
       "      <td>1592039.62</td>\n",
       "      <td>107789</td>\n",
       "      <td>517267.0</td>\n",
       "    </tr>\n",
       "    <tr>\n",
       "      <th>重要发展客户</th>\n",
       "      <td>45785.01</td>\n",
       "      <td>2023</td>\n",
       "      <td>56636.0</td>\n",
       "    </tr>\n",
       "    <tr>\n",
       "      <th>重要挽留客户</th>\n",
       "      <td>33028.40</td>\n",
       "      <td>1263</td>\n",
       "      <td>114482.0</td>\n",
       "    </tr>\n",
       "  </tbody>\n",
       "</table>\n",
       "</div>"
      ],
      "text/plain": [
       "                 M       F          R\n",
       "label                                \n",
       "一般价值客户     7181.28     650    36295.0\n",
       "一般保持客户    19937.45    1712    29448.0\n",
       "一般发展客户   196971.23   13977   591108.0\n",
       "一般挽留客户   438291.81   29346  6951815.0\n",
       "重要价值客户   167080.83   11121   358363.0\n",
       "重要保持客户  1592039.62  107789   517267.0\n",
       "重要发展客户    45785.01    2023    56636.0\n",
       "重要挽留客户    33028.40    1263   114482.0"
      ]
     },
     "execution_count": 33,
     "metadata": {},
     "output_type": "execute_result"
    }
   ],
   "source": [
    "#计算八个层级客户的R、F、M和\n",
    "RFM.groupby('label').sum()"
   ]
  },
  {
   "cell_type": "markdown",
   "metadata": {},
   "source": [
    "结论15：重要保持客户的消费金额远大于其他层级用户，说明该部分用户对公司收益的贡献较大，尽力维护这部分用户公司利益也将得到较大保障"
   ]
  },
  {
   "cell_type": "code",
   "execution_count": 34,
   "metadata": {},
   "outputs": [
    {
     "data": {
      "image/png": "[encoded data removed]",
      "text/plain": [
       "<Figure size 432x288 with 1 Axes>"
      ]
     },
     "metadata": {},
     "output_type": "display_data"
    }
   ],
   "source": [
    "#计算各层级客户的数量分布\n",
    "RFM.groupby('label').count()\n",
    "#各类客户占比\n",
    "user_c = RFM.groupby('label').count()\n",
    "#避免压缩为椭圆\n",
    "plt.axis('equal')\n",
    "#定义标签列表\n",
    "labels = ['一般价值客户','一般保持客户','一般发展客户','一般挽留客户','重要价值客户','重要保持客户','重要发展客户','重要挽留客户']\n",
    "#绘制饼图  按月对客户数计数，\n",
    "plt.pie(user_c['M'],\n",
    "       autopct='%3.1f%%',\n",
    "       labels = labels,\n",
    "       pctdistance=0.9,\n",
    "       labeldistance = 1.2,\n",
    "       radius=3,\n",
    "       startangle = 15)\n",
    "# 正常显示中文标签plt.rcParams   思黑字体['SimHei'] \n",
    "plt.rcParams['font.sans-serif']=['SimHei'] "
   ]
  },
  {
   "cell_type": "markdown",
   "metadata": {},
   "source": [
    "结论16：重要保持客户占比超过一半，但这可能跟计算方式（减平均值）有关，极值会对结果有很大影响，所以RFM的具体划分要根据具体业务设定"
   ]
  },
  {
   "cell_type": "markdown",
   "metadata": {},
   "source": [
    "3.4.2 用户状态分层（新、老、活跃、流失）\n"
   ]
  },
  {
   "cell_type": "code",
   "execution_count": 35,
   "metadata": {},
   "outputs": [
    {
     "data": {
      "text/html": [
       "<div>\n",
       "<style scoped>\n",
       "    .dataframe tbody tr th:only-of-type {\n",
       "        vertical-align: middle;\n",
       "    }\n",
       "\n",
       "    .dataframe tbody tr th {\n",
       "        vertical-align: top;\n",
       "    }\n",
       "\n",
       "    .dataframe thead th {\n",
       "        text-align: right;\n",
       "    }\n",
       "</style>\n",
       "<table border=\"1\" class=\"dataframe\">\n",
       "  <thead>\n",
       "    <tr style=\"text-align: right;\">\n",
       "      <th>month</th>\n",
       "      <th>1997-01-01 00:00:00</th>\n",
       "      <th>1997-02-01 00:00:00</th>\n",
       "      <th>1997-03-01 00:00:00</th>\n",
       "      <th>1997-04-01 00:00:00</th>\n",
       "      <th>1997-05-01 00:00:00</th>\n",
       "      <th>1997-06-01 00:00:00</th>\n",
       "      <th>1997-07-01 00:00:00</th>\n",
       "      <th>1997-08-01 00:00:00</th>\n",
       "      <th>1997-09-01 00:00:00</th>\n",
       "      <th>1997-10-01 00:00:00</th>\n",
       "      <th>1997-11-01 00:00:00</th>\n",
       "      <th>1997-12-01 00:00:00</th>\n",
       "      <th>1998-01-01 00:00:00</th>\n",
       "      <th>1998-02-01 00:00:00</th>\n",
       "      <th>1998-03-01 00:00:00</th>\n",
       "      <th>1998-04-01 00:00:00</th>\n",
       "      <th>1998-05-01 00:00:00</th>\n",
       "      <th>1998-06-01 00:00:00</th>\n",
       "    </tr>\n",
       "    <tr>\n",
       "      <th>user_id</th>\n",
       "      <th></th>\n",
       "      <th></th>\n",
       "      <th></th>\n",
       "      <th></th>\n",
       "      <th></th>\n",
       "      <th></th>\n",
       "      <th></th>\n",
       "      <th></th>\n",
       "      <th></th>\n",
       "      <th></th>\n",
       "      <th></th>\n",
       "      <th></th>\n",
       "      <th></th>\n",
       "      <th></th>\n",
       "      <th></th>\n",
       "      <th></th>\n",
       "      <th></th>\n",
       "      <th></th>\n",
       "    </tr>\n",
       "  </thead>\n",
       "  <tbody>\n",
       "    <tr>\n",
       "      <th>1</th>\n",
       "      <td>1.0</td>\n",
       "      <td>0.0</td>\n",
       "      <td>0.0</td>\n",
       "      <td>0.0</td>\n",
       "      <td>0.0</td>\n",
       "      <td>0.0</td>\n",
       "      <td>0.0</td>\n",
       "      <td>0.0</td>\n",
       "      <td>0.0</td>\n",
       "      <td>0.0</td>\n",
       "      <td>0.0</td>\n",
       "      <td>0.0</td>\n",
       "      <td>0.0</td>\n",
       "      <td>0.0</td>\n",
       "      <td>0.0</td>\n",
       "      <td>0.0</td>\n",
       "      <td>0.0</td>\n",
       "      <td>0.0</td>\n",
       "    </tr>\n",
       "    <tr>\n",
       "      <th>2</th>\n",
       "      <td>2.0</td>\n",
       "      <td>0.0</td>\n",
       "      <td>0.0</td>\n",
       "      <td>0.0</td>\n",
       "      <td>0.0</td>\n",
       "      <td>0.0</td>\n",
       "      <td>0.0</td>\n",
       "      <td>0.0</td>\n",
       "      <td>0.0</td>\n",
       "      <td>0.0</td>\n",
       "      <td>0.0</td>\n",
       "      <td>0.0</td>\n",
       "      <td>0.0</td>\n",
       "      <td>0.0</td>\n",
       "      <td>0.0</td>\n",
       "      <td>0.0</td>\n",
       "      <td>0.0</td>\n",
       "      <td>0.0</td>\n",
       "    </tr>\n",
       "    <tr>\n",
       "      <th>3</th>\n",
       "      <td>1.0</td>\n",
       "      <td>0.0</td>\n",
       "      <td>1.0</td>\n",
       "      <td>1.0</td>\n",
       "      <td>0.0</td>\n",
       "      <td>0.0</td>\n",
       "      <td>0.0</td>\n",
       "      <td>0.0</td>\n",
       "      <td>0.0</td>\n",
       "      <td>0.0</td>\n",
       "      <td>2.0</td>\n",
       "      <td>0.0</td>\n",
       "      <td>0.0</td>\n",
       "      <td>0.0</td>\n",
       "      <td>0.0</td>\n",
       "      <td>0.0</td>\n",
       "      <td>1.0</td>\n",
       "      <td>0.0</td>\n",
       "    </tr>\n",
       "    <tr>\n",
       "      <th>4</th>\n",
       "      <td>2.0</td>\n",
       "      <td>0.0</td>\n",
       "      <td>0.0</td>\n",
       "      <td>0.0</td>\n",
       "      <td>0.0</td>\n",
       "      <td>0.0</td>\n",
       "      <td>0.0</td>\n",
       "      <td>1.0</td>\n",
       "      <td>0.0</td>\n",
       "      <td>0.0</td>\n",
       "      <td>0.0</td>\n",
       "      <td>1.0</td>\n",
       "      <td>0.0</td>\n",
       "      <td>0.0</td>\n",
       "      <td>0.0</td>\n",
       "      <td>0.0</td>\n",
       "      <td>0.0</td>\n",
       "      <td>0.0</td>\n",
       "    </tr>\n",
       "    <tr>\n",
       "      <th>5</th>\n",
       "      <td>2.0</td>\n",
       "      <td>1.0</td>\n",
       "      <td>0.0</td>\n",
       "      <td>1.0</td>\n",
       "      <td>1.0</td>\n",
       "      <td>1.0</td>\n",
       "      <td>1.0</td>\n",
       "      <td>0.0</td>\n",
       "      <td>1.0</td>\n",
       "      <td>0.0</td>\n",
       "      <td>0.0</td>\n",
       "      <td>2.0</td>\n",
       "      <td>1.0</td>\n",
       "      <td>0.0</td>\n",
       "      <td>0.0</td>\n",
       "      <td>0.0</td>\n",
       "      <td>0.0</td>\n",
       "      <td>0.0</td>\n",
       "    </tr>\n",
       "  </tbody>\n",
       "</table>\n",
       "</div>"
      ],
      "text/plain": [
       "month    1997-01-01  1997-02-01  1997-03-01  1997-04-01  1997-05-01  \\\n",
       "user_id                                                               \n",
       "1               1.0         0.0         0.0         0.0         0.0   \n",
       "2               2.0         0.0         0.0         0.0         0.0   \n",
       "3               1.0         0.0         1.0         1.0         0.0   \n",
       "4               2.0         0.0         0.0         0.0         0.0   \n",
       "5               2.0         1.0         0.0         1.0         1.0   \n",
       "\n",
       "month    1997-06-01  1997-07-01  1997-08-01  1997-09-01  1997-10-01  \\\n",
       "user_id                                                               \n",
       "1               0.0         0.0         0.0         0.0         0.0   \n",
       "2               0.0         0.0         0.0         0.0         0.0   \n",
       "3               0.0         0.0         0.0         0.0         0.0   \n",
       "4               0.0         0.0         1.0         0.0         0.0   \n",
       "5               1.0         1.0         0.0         1.0         0.0   \n",
       "\n",
       "month    1997-11-01  1997-12-01  1998-01-01  1998-02-01  1998-03-01  \\\n",
       "user_id                                                               \n",
       "1               0.0         0.0         0.0         0.0         0.0   \n",
       "2               0.0         0.0         0.0         0.0         0.0   \n",
       "3               2.0         0.0         0.0         0.0         0.0   \n",
       "4               0.0         1.0         0.0         0.0         0.0   \n",
       "5               0.0         2.0         1.0         0.0         0.0   \n",
       "\n",
       "month    1998-04-01  1998-05-01  1998-06-01  \n",
       "user_id                                      \n",
       "1               0.0         0.0         0.0  \n",
       "2               0.0         0.0         0.0  \n",
       "3               0.0         1.0         0.0  \n",
       "4               0.0         0.0         0.0  \n",
       "5               0.0         0.0         0.0  "
      ]
     },
     "execution_count": 35,
     "metadata": {},
     "output_type": "execute_result"
    }
   ],
   "source": [
    "# 数据透视表，空值填充为0\n",
    "pivoted_counts = df.pivot_table(index = 'user_id',\n",
    "                                  columns = 'month',\n",
    "                                  values = 'order_dt',\n",
    "                                  aggfunc = 'count').fillna(0)\n",
    "pivoted_counts.head()"
   ]
  },
  {
   "cell_type": "code",
   "execution_count": 36,
   "metadata": {},
   "outputs": [],
   "source": [
    "#消费过的为1 ，没消费过的为0\n",
    "data_purchase = pivoted_counts.applymap(lambda x: 1 if x > 0 else 0)"
   ]
  },
  {
   "cell_type": "markdown",
   "metadata": {},
   "source": [
    "将用户状态分为unreg（未注册）、new（新客）、active（活跃用户）、return（回流用户）、unactive（不活跃用户)\n",
    "\n",
    "若本月没有消费\n",
    "-若之前是未注册，则依旧为未注册\n",
    "-若之前有消费，则为流失/不活跃\n",
    "-其他情况，为未注册\n",
    "若本月有消费\n",
    "-若是第一次消费，则为新用户\n",
    "-若之前有过消费，则上个月为不活跃，则为回流\n",
    "-若上个月为未注册，则为新用户\n",
    "-除此之外，为活跃"
   ]
  },
  {
   "cell_type": "code",
   "execution_count": 37,
   "metadata": {},
   "outputs": [
    {
     "data": {
      "text/html": [
       "<div>\n",
       "<style scoped>\n",
       "    .dataframe tbody tr th:only-of-type {\n",
       "        vertical-align: middle;\n",
       "    }\n",
       "\n",
       "    .dataframe tbody tr th {\n",
       "        vertical-align: top;\n",
       "    }\n",
       "\n",
       "    .dataframe thead th {\n",
       "        text-align: right;\n",
       "    }\n",
       "</style>\n",
       "<table border=\"1\" class=\"dataframe\">\n",
       "  <thead>\n",
       "    <tr style=\"text-align: right;\">\n",
       "      <th>month</th>\n",
       "      <th>1997-01-01 00:00:00</th>\n",
       "      <th>1997-02-01 00:00:00</th>\n",
       "      <th>1997-03-01 00:00:00</th>\n",
       "      <th>1997-04-01 00:00:00</th>\n",
       "      <th>1997-05-01 00:00:00</th>\n",
       "      <th>1997-06-01 00:00:00</th>\n",
       "      <th>1997-07-01 00:00:00</th>\n",
       "      <th>1997-08-01 00:00:00</th>\n",
       "      <th>1997-09-01 00:00:00</th>\n",
       "      <th>1997-10-01 00:00:00</th>\n",
       "      <th>1997-11-01 00:00:00</th>\n",
       "      <th>1997-12-01 00:00:00</th>\n",
       "      <th>1998-01-01 00:00:00</th>\n",
       "      <th>1998-02-01 00:00:00</th>\n",
       "      <th>1998-03-01 00:00:00</th>\n",
       "      <th>1998-04-01 00:00:00</th>\n",
       "      <th>1998-05-01 00:00:00</th>\n",
       "      <th>1998-06-01 00:00:00</th>\n",
       "    </tr>\n",
       "    <tr>\n",
       "      <th>user_id</th>\n",
       "      <th></th>\n",
       "      <th></th>\n",
       "      <th></th>\n",
       "      <th></th>\n",
       "      <th></th>\n",
       "      <th></th>\n",
       "      <th></th>\n",
       "      <th></th>\n",
       "      <th></th>\n",
       "      <th></th>\n",
       "      <th></th>\n",
       "      <th></th>\n",
       "      <th></th>\n",
       "      <th></th>\n",
       "      <th></th>\n",
       "      <th></th>\n",
       "      <th></th>\n",
       "      <th></th>\n",
       "    </tr>\n",
       "  </thead>\n",
       "  <tbody>\n",
       "    <tr>\n",
       "      <th>1</th>\n",
       "      <td>new</td>\n",
       "      <td>unactive</td>\n",
       "      <td>unactive</td>\n",
       "      <td>unactive</td>\n",
       "      <td>unactive</td>\n",
       "      <td>unactive</td>\n",
       "      <td>unactive</td>\n",
       "      <td>unactive</td>\n",
       "      <td>unactive</td>\n",
       "      <td>unactive</td>\n",
       "      <td>unactive</td>\n",
       "      <td>unactive</td>\n",
       "      <td>unactive</td>\n",
       "      <td>unactive</td>\n",
       "      <td>unactive</td>\n",
       "      <td>unactive</td>\n",
       "      <td>unactive</td>\n",
       "      <td>unactive</td>\n",
       "    </tr>\n",
       "    <tr>\n",
       "      <th>2</th>\n",
       "      <td>new</td>\n",
       "      <td>unactive</td>\n",
       "      <td>unactive</td>\n",
       "      <td>unactive</td>\n",
       "      <td>unactive</td>\n",
       "      <td>unactive</td>\n",
       "      <td>unactive</td>\n",
       "      <td>unactive</td>\n",
       "      <td>unactive</td>\n",
       "      <td>unactive</td>\n",
       "      <td>unactive</td>\n",
       "      <td>unactive</td>\n",
       "      <td>unactive</td>\n",
       "      <td>unactive</td>\n",
       "      <td>unactive</td>\n",
       "      <td>unactive</td>\n",
       "      <td>unactive</td>\n",
       "      <td>unactive</td>\n",
       "    </tr>\n",
       "    <tr>\n",
       "      <th>3</th>\n",
       "      <td>new</td>\n",
       "      <td>unactive</td>\n",
       "      <td>return</td>\n",
       "      <td>active</td>\n",
       "      <td>unactive</td>\n",
       "      <td>unactive</td>\n",
       "      <td>unactive</td>\n",
       "      <td>unactive</td>\n",
       "      <td>unactive</td>\n",
       "      <td>unactive</td>\n",
       "      <td>return</td>\n",
       "      <td>unactive</td>\n",
       "      <td>unactive</td>\n",
       "      <td>unactive</td>\n",
       "      <td>unactive</td>\n",
       "      <td>unactive</td>\n",
       "      <td>return</td>\n",
       "      <td>unactive</td>\n",
       "    </tr>\n",
       "    <tr>\n",
       "      <th>4</th>\n",
       "      <td>new</td>\n",
       "      <td>unactive</td>\n",
       "      <td>unactive</td>\n",
       "      <td>unactive</td>\n",
       "      <td>unactive</td>\n",
       "      <td>unactive</td>\n",
       "      <td>unactive</td>\n",
       "      <td>return</td>\n",
       "      <td>unactive</td>\n",
       "      <td>unactive</td>\n",
       "      <td>unactive</td>\n",
       "      <td>return</td>\n",
       "      <td>unactive</td>\n",
       "      <td>unactive</td>\n",
       "      <td>unactive</td>\n",
       "      <td>unactive</td>\n",
       "      <td>unactive</td>\n",
       "      <td>unactive</td>\n",
       "    </tr>\n",
       "    <tr>\n",
       "      <th>5</th>\n",
       "      <td>new</td>\n",
       "      <td>active</td>\n",
       "      <td>unactive</td>\n",
       "      <td>return</td>\n",
       "      <td>active</td>\n",
       "      <td>active</td>\n",
       "      <td>active</td>\n",
       "      <td>unactive</td>\n",
       "      <td>return</td>\n",
       "      <td>unactive</td>\n",
       "      <td>unactive</td>\n",
       "      <td>return</td>\n",
       "      <td>active</td>\n",
       "      <td>unactive</td>\n",
       "      <td>unactive</td>\n",
       "      <td>unactive</td>\n",
       "      <td>unactive</td>\n",
       "      <td>unactive</td>\n",
       "    </tr>\n",
       "  </tbody>\n",
       "</table>\n",
       "</div>"
      ],
      "text/plain": [
       "month   1997-01-01 1997-02-01 1997-03-01 1997-04-01 1997-05-01 1997-06-01  \\\n",
       "user_id                                                                     \n",
       "1              new   unactive   unactive   unactive   unactive   unactive   \n",
       "2              new   unactive   unactive   unactive   unactive   unactive   \n",
       "3              new   unactive     return     active   unactive   unactive   \n",
       "4              new   unactive   unactive   unactive   unactive   unactive   \n",
       "5              new     active   unactive     return     active     active   \n",
       "\n",
       "month   1997-07-01 1997-08-01 1997-09-01 1997-10-01 1997-11-01 1997-12-01  \\\n",
       "user_id                                                                     \n",
       "1         unactive   unactive   unactive   unactive   unactive   unactive   \n",
       "2         unactive   unactive   unactive   unactive   unactive   unactive   \n",
       "3         unactive   unactive   unactive   unactive     return   unactive   \n",
       "4         unactive     return   unactive   unactive   unactive     return   \n",
       "5           active   unactive     return   unactive   unactive     return   \n",
       "\n",
       "month   1998-01-01 1998-02-01 1998-03-01 1998-04-01 1998-05-01 1998-06-01  \n",
       "user_id                                                                    \n",
       "1         unactive   unactive   unactive   unactive   unactive   unactive  \n",
       "2         unactive   unactive   unactive   unactive   unactive   unactive  \n",
       "3         unactive   unactive   unactive   unactive     return   unactive  \n",
       "4         unactive   unactive   unactive   unactive   unactive   unactive  \n",
       "5           active   unactive   unactive   unactive   unactive   unactive  "
      ]
     },
     "execution_count": 37,
     "metadata": {},
     "output_type": "execute_result"
    }
   ],
   "source": [
    "#用户状态\n",
    "def active_status(data):\n",
    "    status = []\n",
    "    for i in range(18):\n",
    "        #若本月没有消费\n",
    "        if data[i] == 0:\n",
    "            if len(status) > 0:\n",
    "                if status[i-1] == 'unreg':\n",
    "                    status.append('unreg')\n",
    "                else:\n",
    "                    status.append('unactive')\n",
    "            else:\n",
    "                status.append('unreg')                  \n",
    "        #若本月消费\n",
    "        else:\n",
    "            if len(status) == 0:\n",
    "                status.append('new')\n",
    "            else:\n",
    "                if status[i-1] == 'unactive':\n",
    "                    status.append('return')\n",
    "                elif status[i-1] == 'unreg':\n",
    "                    status.append('new')\n",
    "                else:\n",
    "                    status.append('active')\n",
    "# 这里需要对返回的值进行转换，将列表转为Series\n",
    "    return pd.Series(status, index = pivoted_counts.columns)\n",
    "\n",
    "purchase_stats = data_purchase.apply(active_status,axis=1)\n",
    "# df.rename(columns={ df.columns[2]: \"new name\" }, inplace=True)\n",
    "# purchase_stats.rename(columns={purchase_stats.columns:data_purchase.columns})\n",
    "purchase_stats.head()"
   ]
  },
  {
   "cell_type": "code",
   "execution_count": 38,
   "metadata": {},
   "outputs": [
    {
     "data": {
      "text/html": [
       "<div>\n",
       "<style scoped>\n",
       "    .dataframe tbody tr th:only-of-type {\n",
       "        vertical-align: middle;\n",
       "    }\n",
       "\n",
       "    .dataframe tbody tr th {\n",
       "        vertical-align: top;\n",
       "    }\n",
       "\n",
       "    .dataframe thead th {\n",
       "        text-align: right;\n",
       "    }\n",
       "</style>\n",
       "<table border=\"1\" class=\"dataframe\">\n",
       "  <thead>\n",
       "    <tr style=\"text-align: right;\">\n",
       "      <th>month</th>\n",
       "      <th>1997-01-01 00:00:00</th>\n",
       "      <th>1997-02-01 00:00:00</th>\n",
       "      <th>1997-03-01 00:00:00</th>\n",
       "      <th>1997-04-01 00:00:00</th>\n",
       "      <th>1997-05-01 00:00:00</th>\n",
       "      <th>1997-06-01 00:00:00</th>\n",
       "      <th>1997-07-01 00:00:00</th>\n",
       "      <th>1997-08-01 00:00:00</th>\n",
       "      <th>1997-09-01 00:00:00</th>\n",
       "      <th>1997-10-01 00:00:00</th>\n",
       "      <th>1997-11-01 00:00:00</th>\n",
       "      <th>1997-12-01 00:00:00</th>\n",
       "      <th>1998-01-01 00:00:00</th>\n",
       "      <th>1998-02-01 00:00:00</th>\n",
       "      <th>1998-03-01 00:00:00</th>\n",
       "      <th>1998-04-01 00:00:00</th>\n",
       "      <th>1998-05-01 00:00:00</th>\n",
       "      <th>1998-06-01 00:00:00</th>\n",
       "    </tr>\n",
       "  </thead>\n",
       "  <tbody>\n",
       "    <tr>\n",
       "      <th>active</th>\n",
       "      <td>NaN</td>\n",
       "      <td>1157.0</td>\n",
       "      <td>1681</td>\n",
       "      <td>1773.0</td>\n",
       "      <td>852.0</td>\n",
       "      <td>747.0</td>\n",
       "      <td>746.0</td>\n",
       "      <td>604.0</td>\n",
       "      <td>528.0</td>\n",
       "      <td>532.0</td>\n",
       "      <td>624.0</td>\n",
       "      <td>632.0</td>\n",
       "      <td>512.0</td>\n",
       "      <td>472.0</td>\n",
       "      <td>571.0</td>\n",
       "      <td>518.0</td>\n",
       "      <td>459.0</td>\n",
       "      <td>446.0</td>\n",
       "    </tr>\n",
       "    <tr>\n",
       "      <th>new</th>\n",
       "      <td>7846.0</td>\n",
       "      <td>8476.0</td>\n",
       "      <td>7248</td>\n",
       "      <td>NaN</td>\n",
       "      <td>NaN</td>\n",
       "      <td>NaN</td>\n",
       "      <td>NaN</td>\n",
       "      <td>NaN</td>\n",
       "      <td>NaN</td>\n",
       "      <td>NaN</td>\n",
       "      <td>NaN</td>\n",
       "      <td>NaN</td>\n",
       "      <td>NaN</td>\n",
       "      <td>NaN</td>\n",
       "      <td>NaN</td>\n",
       "      <td>NaN</td>\n",
       "      <td>NaN</td>\n",
       "      <td>NaN</td>\n",
       "    </tr>\n",
       "    <tr>\n",
       "      <th>return</th>\n",
       "      <td>NaN</td>\n",
       "      <td>NaN</td>\n",
       "      <td>595</td>\n",
       "      <td>1049.0</td>\n",
       "      <td>1362.0</td>\n",
       "      <td>1592.0</td>\n",
       "      <td>1434.0</td>\n",
       "      <td>1168.0</td>\n",
       "      <td>1211.0</td>\n",
       "      <td>1307.0</td>\n",
       "      <td>1404.0</td>\n",
       "      <td>1232.0</td>\n",
       "      <td>1025.0</td>\n",
       "      <td>1079.0</td>\n",
       "      <td>1489.0</td>\n",
       "      <td>919.0</td>\n",
       "      <td>1029.0</td>\n",
       "      <td>1060.0</td>\n",
       "    </tr>\n",
       "    <tr>\n",
       "      <th>unactive</th>\n",
       "      <td>NaN</td>\n",
       "      <td>6689.0</td>\n",
       "      <td>14046</td>\n",
       "      <td>20748.0</td>\n",
       "      <td>21356.0</td>\n",
       "      <td>21231.0</td>\n",
       "      <td>21390.0</td>\n",
       "      <td>21798.0</td>\n",
       "      <td>21831.0</td>\n",
       "      <td>21731.0</td>\n",
       "      <td>21542.0</td>\n",
       "      <td>21706.0</td>\n",
       "      <td>22033.0</td>\n",
       "      <td>22019.0</td>\n",
       "      <td>21510.0</td>\n",
       "      <td>22133.0</td>\n",
       "      <td>22082.0</td>\n",
       "      <td>22064.0</td>\n",
       "    </tr>\n",
       "  </tbody>\n",
       "</table>\n",
       "</div>"
      ],
      "text/plain": [
       "month     1997-01-01  1997-02-01  1997-03-01  1997-04-01  1997-05-01  \\\n",
       "active           NaN      1157.0        1681      1773.0       852.0   \n",
       "new           7846.0      8476.0        7248         NaN         NaN   \n",
       "return           NaN         NaN         595      1049.0      1362.0   \n",
       "unactive         NaN      6689.0       14046     20748.0     21356.0   \n",
       "\n",
       "month     1997-06-01  1997-07-01  1997-08-01  1997-09-01  1997-10-01  \\\n",
       "active         747.0       746.0       604.0       528.0       532.0   \n",
       "new              NaN         NaN         NaN         NaN         NaN   \n",
       "return        1592.0      1434.0      1168.0      1211.0      1307.0   \n",
       "unactive     21231.0     21390.0     21798.0     21831.0     21731.0   \n",
       "\n",
       "month     1997-11-01  1997-12-01  1998-01-01  1998-02-01  1998-03-01  \\\n",
       "active         624.0       632.0       512.0       472.0       571.0   \n",
       "new              NaN         NaN         NaN         NaN         NaN   \n",
       "return        1404.0      1232.0      1025.0      1079.0      1489.0   \n",
       "unactive     21542.0     21706.0     22033.0     22019.0     21510.0   \n",
       "\n",
       "month     1998-04-01  1998-05-01  1998-06-01  \n",
       "active         518.0       459.0       446.0  \n",
       "new              NaN         NaN         NaN  \n",
       "return         919.0      1029.0      1060.0  \n",
       "unactive     22133.0     22082.0     22064.0  "
      ]
     },
     "execution_count": 38,
     "metadata": {},
     "output_type": "execute_result"
    }
   ],
   "source": [
    "#每个月活跃用户的计数 \n",
    "purchase_status_ct = purchase_stats.replace('unreg',np.NaN).apply(lambda x : pd.value_counts(x))\n",
    "purchase_status_ct"
   ]
  },
  {
   "cell_type": "code",
   "execution_count": 39,
   "metadata": {},
   "outputs": [
    {
     "data": {
      "text/html": [
       "<div>\n",
       "<style scoped>\n",
       "    .dataframe tbody tr th:only-of-type {\n",
       "        vertical-align: middle;\n",
       "    }\n",
       "\n",
       "    .dataframe tbody tr th {\n",
       "        vertical-align: top;\n",
       "    }\n",
       "\n",
       "    .dataframe thead th {\n",
       "        text-align: right;\n",
       "    }\n",
       "</style>\n",
       "<table border=\"1\" class=\"dataframe\">\n",
       "  <thead>\n",
       "    <tr style=\"text-align: right;\">\n",
       "      <th></th>\n",
       "      <th>active</th>\n",
       "      <th>new</th>\n",
       "      <th>return</th>\n",
       "      <th>unactive</th>\n",
       "    </tr>\n",
       "    <tr>\n",
       "      <th>month</th>\n",
       "      <th></th>\n",
       "      <th></th>\n",
       "      <th></th>\n",
       "      <th></th>\n",
       "    </tr>\n",
       "  </thead>\n",
       "  <tbody>\n",
       "    <tr>\n",
       "      <th>1997-01-01</th>\n",
       "      <td>0.0</td>\n",
       "      <td>7846.0</td>\n",
       "      <td>0.0</td>\n",
       "      <td>0.0</td>\n",
       "    </tr>\n",
       "    <tr>\n",
       "      <th>1997-02-01</th>\n",
       "      <td>1157.0</td>\n",
       "      <td>8476.0</td>\n",
       "      <td>0.0</td>\n",
       "      <td>6689.0</td>\n",
       "    </tr>\n",
       "    <tr>\n",
       "      <th>1997-03-01</th>\n",
       "      <td>1681.0</td>\n",
       "      <td>7248.0</td>\n",
       "      <td>595.0</td>\n",
       "      <td>14046.0</td>\n",
       "    </tr>\n",
       "    <tr>\n",
       "      <th>1997-04-01</th>\n",
       "      <td>1773.0</td>\n",
       "      <td>0.0</td>\n",
       "      <td>1049.0</td>\n",
       "      <td>20748.0</td>\n",
       "    </tr>\n",
       "    <tr>\n",
       "      <th>1997-05-01</th>\n",
       "      <td>852.0</td>\n",
       "      <td>0.0</td>\n",
       "      <td>1362.0</td>\n",
       "      <td>21356.0</td>\n",
       "    </tr>\n",
       "    <tr>\n",
       "      <th>1997-06-01</th>\n",
       "      <td>747.0</td>\n",
       "      <td>0.0</td>\n",
       "      <td>1592.0</td>\n",
       "      <td>21231.0</td>\n",
       "    </tr>\n",
       "    <tr>\n",
       "      <th>1997-07-01</th>\n",
       "      <td>746.0</td>\n",
       "      <td>0.0</td>\n",
       "      <td>1434.0</td>\n",
       "      <td>21390.0</td>\n",
       "    </tr>\n",
       "    <tr>\n",
       "      <th>1997-08-01</th>\n",
       "      <td>604.0</td>\n",
       "      <td>0.0</td>\n",
       "      <td>1168.0</td>\n",
       "      <td>21798.0</td>\n",
       "    </tr>\n",
       "    <tr>\n",
       "      <th>1997-09-01</th>\n",
       "      <td>528.0</td>\n",
       "      <td>0.0</td>\n",
       "      <td>1211.0</td>\n",
       "      <td>21831.0</td>\n",
       "    </tr>\n",
       "    <tr>\n",
       "      <th>1997-10-01</th>\n",
       "      <td>532.0</td>\n",
       "      <td>0.0</td>\n",
       "      <td>1307.0</td>\n",
       "      <td>21731.0</td>\n",
       "    </tr>\n",
       "    <tr>\n",
       "      <th>1997-11-01</th>\n",
       "      <td>624.0</td>\n",
       "      <td>0.0</td>\n",
       "      <td>1404.0</td>\n",
       "      <td>21542.0</td>\n",
       "    </tr>\n",
       "    <tr>\n",
       "      <th>1997-12-01</th>\n",
       "      <td>632.0</td>\n",
       "      <td>0.0</td>\n",
       "      <td>1232.0</td>\n",
       "      <td>21706.0</td>\n",
       "    </tr>\n",
       "    <tr>\n",
       "      <th>1998-01-01</th>\n",
       "      <td>512.0</td>\n",
       "      <td>0.0</td>\n",
       "      <td>1025.0</td>\n",
       "      <td>22033.0</td>\n",
       "    </tr>\n",
       "    <tr>\n",
       "      <th>1998-02-01</th>\n",
       "      <td>472.0</td>\n",
       "      <td>0.0</td>\n",
       "      <td>1079.0</td>\n",
       "      <td>22019.0</td>\n",
       "    </tr>\n",
       "    <tr>\n",
       "      <th>1998-03-01</th>\n",
       "      <td>571.0</td>\n",
       "      <td>0.0</td>\n",
       "      <td>1489.0</td>\n",
       "      <td>21510.0</td>\n",
       "    </tr>\n",
       "    <tr>\n",
       "      <th>1998-04-01</th>\n",
       "      <td>518.0</td>\n",
       "      <td>0.0</td>\n",
       "      <td>919.0</td>\n",
       "      <td>22133.0</td>\n",
       "    </tr>\n",
       "    <tr>\n",
       "      <th>1998-05-01</th>\n",
       "      <td>459.0</td>\n",
       "      <td>0.0</td>\n",
       "      <td>1029.0</td>\n",
       "      <td>22082.0</td>\n",
       "    </tr>\n",
       "    <tr>\n",
       "      <th>1998-06-01</th>\n",
       "      <td>446.0</td>\n",
       "      <td>0.0</td>\n",
       "      <td>1060.0</td>\n",
       "      <td>22064.0</td>\n",
       "    </tr>\n",
       "  </tbody>\n",
       "</table>\n",
       "</div>"
      ],
      "text/plain": [
       "            active     new  return  unactive\n",
       "month                                       \n",
       "1997-01-01     0.0  7846.0     0.0       0.0\n",
       "1997-02-01  1157.0  8476.0     0.0    6689.0\n",
       "1997-03-01  1681.0  7248.0   595.0   14046.0\n",
       "1997-04-01  1773.0     0.0  1049.0   20748.0\n",
       "1997-05-01   852.0     0.0  1362.0   21356.0\n",
       "1997-06-01   747.0     0.0  1592.0   21231.0\n",
       "1997-07-01   746.0     0.0  1434.0   21390.0\n",
       "1997-08-01   604.0     0.0  1168.0   21798.0\n",
       "1997-09-01   528.0     0.0  1211.0   21831.0\n",
       "1997-10-01   532.0     0.0  1307.0   21731.0\n",
       "1997-11-01   624.0     0.0  1404.0   21542.0\n",
       "1997-12-01   632.0     0.0  1232.0   21706.0\n",
       "1998-01-01   512.0     0.0  1025.0   22033.0\n",
       "1998-02-01   472.0     0.0  1079.0   22019.0\n",
       "1998-03-01   571.0     0.0  1489.0   21510.0\n",
       "1998-04-01   518.0     0.0   919.0   22133.0\n",
       "1998-05-01   459.0     0.0  1029.0   22082.0\n",
       "1998-06-01   446.0     0.0  1060.0   22064.0"
      ]
     },
     "execution_count": 39,
     "metadata": {},
     "output_type": "execute_result"
    }
   ],
   "source": [
    "#将 NaN 填充为0 ，转置\n",
    "purchase_status_ct.fillna(0).T"
   ]
  },
  {
   "cell_type": "code",
   "execution_count": 40,
   "metadata": {},
   "outputs": [
    {
     "data": {
      "text/plain": [
       "<matplotlib.axes._subplots.AxesSubplot at 0x2333465d0f0>"
      ]
     },
     "execution_count": 40,
     "metadata": {},
     "output_type": "execute_result"
    },
    {
     "data": {
      "image/png": "[encoded data removed]",
      "text/plain": [
       "<Figure size 432x288 with 1 Axes>"
      ]
     },
     "metadata": {},
     "output_type": "display_data"
    }
   ],
   "source": [
    "#面积图 plot.area()\n",
    "purchase_status_ct.fillna(0).T.plot.area()"
   ]
  },
  {
   "cell_type": "code",
   "execution_count": 41,
   "metadata": {},
   "outputs": [
    {
     "data": {
      "text/html": [
       "<div>\n",
       "<style scoped>\n",
       "    .dataframe tbody tr th:only-of-type {\n",
       "        vertical-align: middle;\n",
       "    }\n",
       "\n",
       "    .dataframe tbody tr th {\n",
       "        vertical-align: top;\n",
       "    }\n",
       "\n",
       "    .dataframe thead th {\n",
       "        text-align: right;\n",
       "    }\n",
       "</style>\n",
       "<table border=\"1\" class=\"dataframe\">\n",
       "  <thead>\n",
       "    <tr style=\"text-align: right;\">\n",
       "      <th></th>\n",
       "      <th>active</th>\n",
       "      <th>new</th>\n",
       "      <th>return</th>\n",
       "      <th>unactive</th>\n",
       "    </tr>\n",
       "    <tr>\n",
       "      <th>month</th>\n",
       "      <th></th>\n",
       "      <th></th>\n",
       "      <th></th>\n",
       "      <th></th>\n",
       "    </tr>\n",
       "  </thead>\n",
       "  <tbody>\n",
       "    <tr>\n",
       "      <th>1997-01-01</th>\n",
       "      <td>0.000000</td>\n",
       "      <td>1.000000</td>\n",
       "      <td>0.000000</td>\n",
       "      <td>0.000000</td>\n",
       "    </tr>\n",
       "    <tr>\n",
       "      <th>1997-02-01</th>\n",
       "      <td>0.070886</td>\n",
       "      <td>0.519299</td>\n",
       "      <td>0.000000</td>\n",
       "      <td>0.409815</td>\n",
       "    </tr>\n",
       "    <tr>\n",
       "      <th>1997-03-01</th>\n",
       "      <td>0.071319</td>\n",
       "      <td>0.307510</td>\n",
       "      <td>0.025244</td>\n",
       "      <td>0.595927</td>\n",
       "    </tr>\n",
       "    <tr>\n",
       "      <th>1997-04-01</th>\n",
       "      <td>0.075223</td>\n",
       "      <td>0.000000</td>\n",
       "      <td>0.044506</td>\n",
       "      <td>0.880272</td>\n",
       "    </tr>\n",
       "    <tr>\n",
       "      <th>1997-05-01</th>\n",
       "      <td>0.036148</td>\n",
       "      <td>0.000000</td>\n",
       "      <td>0.057785</td>\n",
       "      <td>0.906067</td>\n",
       "    </tr>\n",
       "    <tr>\n",
       "      <th>1997-06-01</th>\n",
       "      <td>0.031693</td>\n",
       "      <td>0.000000</td>\n",
       "      <td>0.067543</td>\n",
       "      <td>0.900764</td>\n",
       "    </tr>\n",
       "    <tr>\n",
       "      <th>1997-07-01</th>\n",
       "      <td>0.031650</td>\n",
       "      <td>0.000000</td>\n",
       "      <td>0.060840</td>\n",
       "      <td>0.907510</td>\n",
       "    </tr>\n",
       "    <tr>\n",
       "      <th>1997-08-01</th>\n",
       "      <td>0.025626</td>\n",
       "      <td>0.000000</td>\n",
       "      <td>0.049555</td>\n",
       "      <td>0.924820</td>\n",
       "    </tr>\n",
       "    <tr>\n",
       "      <th>1997-09-01</th>\n",
       "      <td>0.022401</td>\n",
       "      <td>0.000000</td>\n",
       "      <td>0.051379</td>\n",
       "      <td>0.926220</td>\n",
       "    </tr>\n",
       "    <tr>\n",
       "      <th>1997-10-01</th>\n",
       "      <td>0.022571</td>\n",
       "      <td>0.000000</td>\n",
       "      <td>0.055452</td>\n",
       "      <td>0.921977</td>\n",
       "    </tr>\n",
       "    <tr>\n",
       "      <th>1997-11-01</th>\n",
       "      <td>0.026474</td>\n",
       "      <td>0.000000</td>\n",
       "      <td>0.059567</td>\n",
       "      <td>0.913958</td>\n",
       "    </tr>\n",
       "    <tr>\n",
       "      <th>1997-12-01</th>\n",
       "      <td>0.026814</td>\n",
       "      <td>0.000000</td>\n",
       "      <td>0.052270</td>\n",
       "      <td>0.920916</td>\n",
       "    </tr>\n",
       "    <tr>\n",
       "      <th>1998-01-01</th>\n",
       "      <td>0.021723</td>\n",
       "      <td>0.000000</td>\n",
       "      <td>0.043487</td>\n",
       "      <td>0.934790</td>\n",
       "    </tr>\n",
       "    <tr>\n",
       "      <th>1998-02-01</th>\n",
       "      <td>0.020025</td>\n",
       "      <td>0.000000</td>\n",
       "      <td>0.045779</td>\n",
       "      <td>0.934196</td>\n",
       "    </tr>\n",
       "    <tr>\n",
       "      <th>1998-03-01</th>\n",
       "      <td>0.024226</td>\n",
       "      <td>0.000000</td>\n",
       "      <td>0.063174</td>\n",
       "      <td>0.912601</td>\n",
       "    </tr>\n",
       "    <tr>\n",
       "      <th>1998-04-01</th>\n",
       "      <td>0.021977</td>\n",
       "      <td>0.000000</td>\n",
       "      <td>0.038990</td>\n",
       "      <td>0.939033</td>\n",
       "    </tr>\n",
       "    <tr>\n",
       "      <th>1998-05-01</th>\n",
       "      <td>0.019474</td>\n",
       "      <td>0.000000</td>\n",
       "      <td>0.043657</td>\n",
       "      <td>0.936869</td>\n",
       "    </tr>\n",
       "    <tr>\n",
       "      <th>1998-06-01</th>\n",
       "      <td>0.018922</td>\n",
       "      <td>0.000000</td>\n",
       "      <td>0.044972</td>\n",
       "      <td>0.936105</td>\n",
       "    </tr>\n",
       "  </tbody>\n",
       "</table>\n",
       "</div>"
      ],
      "text/plain": [
       "              active       new    return  unactive\n",
       "month                                             \n",
       "1997-01-01  0.000000  1.000000  0.000000  0.000000\n",
       "1997-02-01  0.070886  0.519299  0.000000  0.409815\n",
       "1997-03-01  0.071319  0.307510  0.025244  0.595927\n",
       "1997-04-01  0.075223  0.000000  0.044506  0.880272\n",
       "1997-05-01  0.036148  0.000000  0.057785  0.906067\n",
       "1997-06-01  0.031693  0.000000  0.067543  0.900764\n",
       "1997-07-01  0.031650  0.000000  0.060840  0.907510\n",
       "1997-08-01  0.025626  0.000000  0.049555  0.924820\n",
       "1997-09-01  0.022401  0.000000  0.051379  0.926220\n",
       "1997-10-01  0.022571  0.000000  0.055452  0.921977\n",
       "1997-11-01  0.026474  0.000000  0.059567  0.913958\n",
       "1997-12-01  0.026814  0.000000  0.052270  0.920916\n",
       "1998-01-01  0.021723  0.000000  0.043487  0.934790\n",
       "1998-02-01  0.020025  0.000000  0.045779  0.934196\n",
       "1998-03-01  0.024226  0.000000  0.063174  0.912601\n",
       "1998-04-01  0.021977  0.000000  0.038990  0.939033\n",
       "1998-05-01  0.019474  0.000000  0.043657  0.936869\n",
       "1998-06-01  0.018922  0.000000  0.044972  0.936105"
      ]
     },
     "execution_count": 41,
     "metadata": {},
     "output_type": "execute_result"
    }
   ],
   "source": [
    "#计算各消费状态层级用户占比\n",
    "purchase_status_ct.fillna(0).T.apply(lambda x:x/x.sum(),axis = 1)"
   ]
  },
  {
   "cell_type": "markdown",
   "metadata": {},
   "source": [
    "结论17：由上表可知，每月的用户消费状态变化\n",
    "\n",
    "-活跃用户，即持续消费的用户，对应的是消费运营的质量\n",
    "\n",
    "-回流用户，之前不消费本月才消费，对应的是唤回运营\n",
    "\n",
    "-不活跃用户，对应的是流失"
   ]
  },
  {
   "cell_type": "markdown",
   "metadata": {},
   "source": [
    "3.5 用户购买周期（按订单）\n",
    "3.5.1 用户消费周期描述"
   ]
  },
  {
   "cell_type": "code",
   "execution_count": 42,
   "metadata": {},
   "outputs": [
    {
     "data": {
      "text/plain": [
       "user_id   \n",
       "1        0        NaT\n",
       "2        1        NaT\n",
       "         2     0 days\n",
       "3        3        NaT\n",
       "         4    87 days\n",
       "         5     3 days\n",
       "         6   227 days\n",
       "         7    10 days\n",
       "         8   184 days\n",
       "4        9        NaT\n",
       "Name: order_dt, dtype: timedelta64[ns]"
      ]
     },
     "execution_count": 42,
     "metadata": {},
     "output_type": "execute_result"
    }
   ],
   "source": [
    "order_diff = grouped_user.apply(lambda x:x.order_dt - x.order_dt.shift())\n",
    "order_diff.head(10)"
   ]
  },
  {
   "cell_type": "code",
   "execution_count": 43,
   "metadata": {},
   "outputs": [
    {
     "data": {
      "text/plain": [
       "0   1997-01-01\n",
       "1   1997-01-12\n",
       "2   1997-01-12\n",
       "3   1997-01-02\n",
       "4   1997-03-30\n",
       "5   1997-04-02\n",
       "6   1997-11-15\n",
       "7   1997-11-25\n",
       "8   1998-05-28\n",
       "9   1997-01-01\n",
       "Name: order_dt, dtype: datetime64[ns]"
      ]
     },
     "execution_count": 43,
     "metadata": {},
     "output_type": "execute_result"
    }
   ],
   "source": [
    "#错位前的前10行\n",
    "df.order_dt.head(10)"
   ]
  },
  {
   "cell_type": "code",
   "execution_count": 44,
   "metadata": {},
   "outputs": [
    {
     "data": {
      "text/plain": [
       "0          NaT\n",
       "1   1997-01-01\n",
       "2   1997-01-12\n",
       "3   1997-01-12\n",
       "4   1997-01-02\n",
       "5   1997-03-30\n",
       "6   1997-04-02\n",
       "7   1997-11-15\n",
       "8   1997-11-25\n",
       "9   1998-05-28\n",
       "Name: order_dt, dtype: datetime64[ns]"
      ]
     },
     "execution_count": 44,
     "metadata": {},
     "output_type": "execute_result"
    }
   ],
   "source": [
    "#错位函数 shift()  将时间列order_dt向上平移一行\n",
    "df.order_dt.shift().head(10)"
   ]
  },
  {
   "cell_type": "code",
   "execution_count": 45,
   "metadata": {},
   "outputs": [
    {
     "data": {
      "text/plain": [
       "count                      46089\n",
       "mean     68 days 23:22:13.567662\n",
       "std      91 days 00:47:33.924168\n",
       "min              0 days 00:00:00\n",
       "25%             10 days 00:00:00\n",
       "50%             31 days 00:00:00\n",
       "75%             89 days 00:00:00\n",
       "max            533 days 00:00:00\n",
       "Name: order_dt, dtype: object"
      ]
     },
     "execution_count": 45,
     "metadata": {},
     "output_type": "execute_result"
    }
   ],
   "source": [
    "#描述统计\n",
    "order_diff.describe()"
   ]
  },
  {
   "cell_type": "markdown",
   "metadata": {},
   "source": [
    "3.5.2 用户消费周期分布"
   ]
  },
  {
   "cell_type": "code",
   "execution_count": 46,
   "metadata": {},
   "outputs": [
    {
     "data": {
      "text/plain": [
       "<matplotlib.axes._subplots.AxesSubplot at 0x233383d5fd0>"
      ]
     },
     "execution_count": 46,
     "metadata": {},
     "output_type": "execute_result"
    },
    {
     "data": {
      "image/png": "[encoded data removed]",
      "text/plain": [
       "<Figure size 432x288 with 1 Axes>"
      ]
     },
     "metadata": {},
     "output_type": "display_data"
    }
   ],
   "source": [
    "# 清洗\n",
    "(order_diff / np.timedelta64(1,'D')).hist(bins = 20)"
   ]
  },
  {
   "cell_type": "markdown",
   "metadata": {},
   "source": [
    "3.6 用户生命周期（按第一次&最后一次消费）\n",
    "3.6.1 用户生命周期描述"
   ]
  },
  {
   "cell_type": "code",
   "execution_count": 47,
   "metadata": {},
   "outputs": [
    {
     "data": {
      "text/plain": [
       "count                       23570\n",
       "mean     134 days 20:55:36.987696\n",
       "std      180 days 13:46:43.039788\n",
       "min               0 days 00:00:00\n",
       "25%               0 days 00:00:00\n",
       "50%               0 days 00:00:00\n",
       "75%             294 days 00:00:00\n",
       "max             544 days 00:00:00\n",
       "dtype: object"
      ]
     },
     "execution_count": 47,
     "metadata": {},
     "output_type": "execute_result"
    }
   ],
   "source": [
    "(user_life['max']-user_life['min']).describe()"
   ]
  },
  {
   "cell_type": "code",
   "execution_count": null,
   "metadata": {},
   "outputs": [],
   "source": [
    "3.6.2 用户生命周期分布\n"
   ]
  },
  {
   "cell_type": "code",
   "execution_count": 48,
   "metadata": {},
   "outputs": [
    {
     "data": {
      "text/plain": [
       "<matplotlib.axes._subplots.AxesSubplot at 0x233345bdb00>"
      ]
     },
     "execution_count": 48,
     "metadata": {},
     "output_type": "execute_result"
    },
    {
     "data": {
      "image/png": "[encoded data removed]",
      "text/plain": [
       "<Figure size 432x288 with 1 Axes>"
      ]
     },
     "metadata": {},
     "output_type": "display_data"
    }
   ],
   "source": [
    "((user_life['max']-user_life['min'])/ np.timedelta64(1,'D')).hist(bins = 20)"
   ]
  },
  {
   "cell_type": "markdown",
   "metadata": {},
   "source": [
    "结论18：\n",
    "\n",
    "-用户的生命周期受只购买一次的用户影响比较大（可以排除）\n",
    "\n",
    "-用户均消费134天，中位数0天"
   ]
  },
  {
   "cell_type": "markdown",
   "metadata": {},
   "source": [
    "排除掉只购买一次的用户"
   ]
  },
  {
   "cell_type": "code",
   "execution_count": 49,
   "metadata": {},
   "outputs": [
    {
     "data": {
      "text/plain": [
       "<matplotlib.axes._subplots.AxesSubplot at 0x23338fbbef0>"
      ]
     },
     "execution_count": 49,
     "metadata": {},
     "output_type": "execute_result"
    },
    {
     "data": {
      "image/png": "[encoded data removed]",
      "text/plain": [
       "<Figure size 432x288 with 1 Axes>"
      ]
     },
     "metadata": {},
     "output_type": "display_data"
    }
   ],
   "source": [
    "u_1 = ((user_life['max']-user_life['min']).reset_index()[0] / np.timedelta64(1,'D'))\n",
    "u_1[u_1 > 0 ].hist(bins = 40)"
   ]
  },
  {
   "cell_type": "markdown",
   "metadata": {},
   "source": [
    "结论19：\n",
    "\n",
    "-由以上图表前段，不稳定的用户（只消费了几次的）仍旧比较多，可以对该部分用户加强运营力度\n",
    "\n",
    "-对于中间不活跃的用户，可采用适当运营方式唤回"
   ]
  },
  {
   "cell_type": "markdown",
   "metadata": {},
   "source": [
    "4、回购和复购率分析\n",
    "\n",
    "复购率：自然月内，购买多次的用户占比\n",
    "回购率：曾经购买过的用户在某一时期内的再次购买的占比"
   ]
  },
  {
   "cell_type": "code",
   "execution_count": 50,
   "metadata": {},
   "outputs": [
    {
     "data": {
      "text/html": [
       "<div>\n",
       "<style scoped>\n",
       "    .dataframe tbody tr th:only-of-type {\n",
       "        vertical-align: middle;\n",
       "    }\n",
       "\n",
       "    .dataframe tbody tr th {\n",
       "        vertical-align: top;\n",
       "    }\n",
       "\n",
       "    .dataframe thead th {\n",
       "        text-align: right;\n",
       "    }\n",
       "</style>\n",
       "<table border=\"1\" class=\"dataframe\">\n",
       "  <thead>\n",
       "    <tr style=\"text-align: right;\">\n",
       "      <th>month</th>\n",
       "      <th>1997-01-01 00:00:00</th>\n",
       "      <th>1997-02-01 00:00:00</th>\n",
       "      <th>1997-03-01 00:00:00</th>\n",
       "      <th>1997-04-01 00:00:00</th>\n",
       "      <th>1997-05-01 00:00:00</th>\n",
       "      <th>1997-06-01 00:00:00</th>\n",
       "      <th>1997-07-01 00:00:00</th>\n",
       "      <th>1997-08-01 00:00:00</th>\n",
       "      <th>1997-09-01 00:00:00</th>\n",
       "      <th>1997-10-01 00:00:00</th>\n",
       "      <th>1997-11-01 00:00:00</th>\n",
       "      <th>1997-12-01 00:00:00</th>\n",
       "      <th>1998-01-01 00:00:00</th>\n",
       "      <th>1998-02-01 00:00:00</th>\n",
       "      <th>1998-03-01 00:00:00</th>\n",
       "      <th>1998-04-01 00:00:00</th>\n",
       "      <th>1998-05-01 00:00:00</th>\n",
       "      <th>1998-06-01 00:00:00</th>\n",
       "    </tr>\n",
       "    <tr>\n",
       "      <th>user_id</th>\n",
       "      <th></th>\n",
       "      <th></th>\n",
       "      <th></th>\n",
       "      <th></th>\n",
       "      <th></th>\n",
       "      <th></th>\n",
       "      <th></th>\n",
       "      <th></th>\n",
       "      <th></th>\n",
       "      <th></th>\n",
       "      <th></th>\n",
       "      <th></th>\n",
       "      <th></th>\n",
       "      <th></th>\n",
       "      <th></th>\n",
       "      <th></th>\n",
       "      <th></th>\n",
       "      <th></th>\n",
       "    </tr>\n",
       "  </thead>\n",
       "  <tbody>\n",
       "    <tr>\n",
       "      <th>1</th>\n",
       "      <td>1.0</td>\n",
       "      <td>0.0</td>\n",
       "      <td>0.0</td>\n",
       "      <td>0.0</td>\n",
       "      <td>0.0</td>\n",
       "      <td>0.0</td>\n",
       "      <td>0.0</td>\n",
       "      <td>0.0</td>\n",
       "      <td>0.0</td>\n",
       "      <td>0.0</td>\n",
       "      <td>0.0</td>\n",
       "      <td>0.0</td>\n",
       "      <td>0.0</td>\n",
       "      <td>0.0</td>\n",
       "      <td>0.0</td>\n",
       "      <td>0.0</td>\n",
       "      <td>0.0</td>\n",
       "      <td>0.0</td>\n",
       "    </tr>\n",
       "    <tr>\n",
       "      <th>2</th>\n",
       "      <td>2.0</td>\n",
       "      <td>0.0</td>\n",
       "      <td>0.0</td>\n",
       "      <td>0.0</td>\n",
       "      <td>0.0</td>\n",
       "      <td>0.0</td>\n",
       "      <td>0.0</td>\n",
       "      <td>0.0</td>\n",
       "      <td>0.0</td>\n",
       "      <td>0.0</td>\n",
       "      <td>0.0</td>\n",
       "      <td>0.0</td>\n",
       "      <td>0.0</td>\n",
       "      <td>0.0</td>\n",
       "      <td>0.0</td>\n",
       "      <td>0.0</td>\n",
       "      <td>0.0</td>\n",
       "      <td>0.0</td>\n",
       "    </tr>\n",
       "    <tr>\n",
       "      <th>3</th>\n",
       "      <td>1.0</td>\n",
       "      <td>0.0</td>\n",
       "      <td>1.0</td>\n",
       "      <td>1.0</td>\n",
       "      <td>0.0</td>\n",
       "      <td>0.0</td>\n",
       "      <td>0.0</td>\n",
       "      <td>0.0</td>\n",
       "      <td>0.0</td>\n",
       "      <td>0.0</td>\n",
       "      <td>2.0</td>\n",
       "      <td>0.0</td>\n",
       "      <td>0.0</td>\n",
       "      <td>0.0</td>\n",
       "      <td>0.0</td>\n",
       "      <td>0.0</td>\n",
       "      <td>1.0</td>\n",
       "      <td>0.0</td>\n",
       "    </tr>\n",
       "    <tr>\n",
       "      <th>4</th>\n",
       "      <td>2.0</td>\n",
       "      <td>0.0</td>\n",
       "      <td>0.0</td>\n",
       "      <td>0.0</td>\n",
       "      <td>0.0</td>\n",
       "      <td>0.0</td>\n",
       "      <td>0.0</td>\n",
       "      <td>1.0</td>\n",
       "      <td>0.0</td>\n",
       "      <td>0.0</td>\n",
       "      <td>0.0</td>\n",
       "      <td>1.0</td>\n",
       "      <td>0.0</td>\n",
       "      <td>0.0</td>\n",
       "      <td>0.0</td>\n",
       "      <td>0.0</td>\n",
       "      <td>0.0</td>\n",
       "      <td>0.0</td>\n",
       "    </tr>\n",
       "    <tr>\n",
       "      <th>5</th>\n",
       "      <td>2.0</td>\n",
       "      <td>1.0</td>\n",
       "      <td>0.0</td>\n",
       "      <td>1.0</td>\n",
       "      <td>1.0</td>\n",
       "      <td>1.0</td>\n",
       "      <td>1.0</td>\n",
       "      <td>0.0</td>\n",
       "      <td>1.0</td>\n",
       "      <td>0.0</td>\n",
       "      <td>0.0</td>\n",
       "      <td>2.0</td>\n",
       "      <td>1.0</td>\n",
       "      <td>0.0</td>\n",
       "      <td>0.0</td>\n",
       "      <td>0.0</td>\n",
       "      <td>0.0</td>\n",
       "      <td>0.0</td>\n",
       "    </tr>\n",
       "  </tbody>\n",
       "</table>\n",
       "</div>"
      ],
      "text/plain": [
       "month    1997-01-01  1997-02-01  1997-03-01  1997-04-01  1997-05-01  \\\n",
       "user_id                                                               \n",
       "1               1.0         0.0         0.0         0.0         0.0   \n",
       "2               2.0         0.0         0.0         0.0         0.0   \n",
       "3               1.0         0.0         1.0         1.0         0.0   \n",
       "4               2.0         0.0         0.0         0.0         0.0   \n",
       "5               2.0         1.0         0.0         1.0         1.0   \n",
       "\n",
       "month    1997-06-01  1997-07-01  1997-08-01  1997-09-01  1997-10-01  \\\n",
       "user_id                                                               \n",
       "1               0.0         0.0         0.0         0.0         0.0   \n",
       "2               0.0         0.0         0.0         0.0         0.0   \n",
       "3               0.0         0.0         0.0         0.0         0.0   \n",
       "4               0.0         0.0         1.0         0.0         0.0   \n",
       "5               1.0         1.0         0.0         1.0         0.0   \n",
       "\n",
       "month    1997-11-01  1997-12-01  1998-01-01  1998-02-01  1998-03-01  \\\n",
       "user_id                                                               \n",
       "1               0.0         0.0         0.0         0.0         0.0   \n",
       "2               0.0         0.0         0.0         0.0         0.0   \n",
       "3               2.0         0.0         0.0         0.0         0.0   \n",
       "4               0.0         1.0         0.0         0.0         0.0   \n",
       "5               0.0         2.0         1.0         0.0         0.0   \n",
       "\n",
       "month    1998-04-01  1998-05-01  1998-06-01  \n",
       "user_id                                      \n",
       "1               0.0         0.0         0.0  \n",
       "2               0.0         0.0         0.0  \n",
       "3               0.0         1.0         0.0  \n",
       "4               0.0         0.0         0.0  \n",
       "5               0.0         0.0         0.0  "
      ]
     },
     "execution_count": 50,
     "metadata": {},
     "output_type": "execute_result"
    }
   ],
   "source": [
    "#用户每个月的消费次数\n",
    "pivoted_counts=df.pivot_table(index='user_id',\n",
    "                              columns='month',\n",
    "                              values='order_dt',\n",
    "                              aggfunc='count').fillna(0)\n",
    "pivoted_counts.head()"
   ]
  },
  {
   "cell_type": "code",
   "execution_count": 51,
   "metadata": {},
   "outputs": [
    {
     "data": {
      "text/html": [
       "<div>\n",
       "<style scoped>\n",
       "    .dataframe tbody tr th:only-of-type {\n",
       "        vertical-align: middle;\n",
       "    }\n",
       "\n",
       "    .dataframe tbody tr th {\n",
       "        vertical-align: top;\n",
       "    }\n",
       "\n",
       "    .dataframe thead th {\n",
       "        text-align: right;\n",
       "    }\n",
       "</style>\n",
       "<table border=\"1\" class=\"dataframe\">\n",
       "  <thead>\n",
       "    <tr style=\"text-align: right;\">\n",
       "      <th>month</th>\n",
       "      <th>1997-01-01 00:00:00</th>\n",
       "      <th>1997-02-01 00:00:00</th>\n",
       "      <th>1997-03-01 00:00:00</th>\n",
       "      <th>1997-04-01 00:00:00</th>\n",
       "      <th>1997-05-01 00:00:00</th>\n",
       "      <th>1997-06-01 00:00:00</th>\n",
       "      <th>1997-07-01 00:00:00</th>\n",
       "      <th>1997-08-01 00:00:00</th>\n",
       "      <th>1997-09-01 00:00:00</th>\n",
       "      <th>1997-10-01 00:00:00</th>\n",
       "      <th>1997-11-01 00:00:00</th>\n",
       "      <th>1997-12-01 00:00:00</th>\n",
       "      <th>1998-01-01 00:00:00</th>\n",
       "      <th>1998-02-01 00:00:00</th>\n",
       "      <th>1998-03-01 00:00:00</th>\n",
       "      <th>1998-04-01 00:00:00</th>\n",
       "      <th>1998-05-01 00:00:00</th>\n",
       "      <th>1998-06-01 00:00:00</th>\n",
       "    </tr>\n",
       "    <tr>\n",
       "      <th>user_id</th>\n",
       "      <th></th>\n",
       "      <th></th>\n",
       "      <th></th>\n",
       "      <th></th>\n",
       "      <th></th>\n",
       "      <th></th>\n",
       "      <th></th>\n",
       "      <th></th>\n",
       "      <th></th>\n",
       "      <th></th>\n",
       "      <th></th>\n",
       "      <th></th>\n",
       "      <th></th>\n",
       "      <th></th>\n",
       "      <th></th>\n",
       "      <th></th>\n",
       "      <th></th>\n",
       "      <th></th>\n",
       "    </tr>\n",
       "  </thead>\n",
       "  <tbody>\n",
       "    <tr>\n",
       "      <th>1</th>\n",
       "      <td>0.0</td>\n",
       "      <td>NaN</td>\n",
       "      <td>NaN</td>\n",
       "      <td>NaN</td>\n",
       "      <td>NaN</td>\n",
       "      <td>NaN</td>\n",
       "      <td>NaN</td>\n",
       "      <td>NaN</td>\n",
       "      <td>NaN</td>\n",
       "      <td>NaN</td>\n",
       "      <td>NaN</td>\n",
       "      <td>NaN</td>\n",
       "      <td>NaN</td>\n",
       "      <td>NaN</td>\n",
       "      <td>NaN</td>\n",
       "      <td>NaN</td>\n",
       "      <td>NaN</td>\n",
       "      <td>NaN</td>\n",
       "    </tr>\n",
       "    <tr>\n",
       "      <th>2</th>\n",
       "      <td>1.0</td>\n",
       "      <td>NaN</td>\n",
       "      <td>NaN</td>\n",
       "      <td>NaN</td>\n",
       "      <td>NaN</td>\n",
       "      <td>NaN</td>\n",
       "      <td>NaN</td>\n",
       "      <td>NaN</td>\n",
       "      <td>NaN</td>\n",
       "      <td>NaN</td>\n",
       "      <td>NaN</td>\n",
       "      <td>NaN</td>\n",
       "      <td>NaN</td>\n",
       "      <td>NaN</td>\n",
       "      <td>NaN</td>\n",
       "      <td>NaN</td>\n",
       "      <td>NaN</td>\n",
       "      <td>NaN</td>\n",
       "    </tr>\n",
       "    <tr>\n",
       "      <th>3</th>\n",
       "      <td>0.0</td>\n",
       "      <td>NaN</td>\n",
       "      <td>0.0</td>\n",
       "      <td>0.0</td>\n",
       "      <td>NaN</td>\n",
       "      <td>NaN</td>\n",
       "      <td>NaN</td>\n",
       "      <td>NaN</td>\n",
       "      <td>NaN</td>\n",
       "      <td>NaN</td>\n",
       "      <td>1.0</td>\n",
       "      <td>NaN</td>\n",
       "      <td>NaN</td>\n",
       "      <td>NaN</td>\n",
       "      <td>NaN</td>\n",
       "      <td>NaN</td>\n",
       "      <td>0.0</td>\n",
       "      <td>NaN</td>\n",
       "    </tr>\n",
       "    <tr>\n",
       "      <th>4</th>\n",
       "      <td>1.0</td>\n",
       "      <td>NaN</td>\n",
       "      <td>NaN</td>\n",
       "      <td>NaN</td>\n",
       "      <td>NaN</td>\n",
       "      <td>NaN</td>\n",
       "      <td>NaN</td>\n",
       "      <td>0.0</td>\n",
       "      <td>NaN</td>\n",
       "      <td>NaN</td>\n",
       "      <td>NaN</td>\n",
       "      <td>0.0</td>\n",
       "      <td>NaN</td>\n",
       "      <td>NaN</td>\n",
       "      <td>NaN</td>\n",
       "      <td>NaN</td>\n",
       "      <td>NaN</td>\n",
       "      <td>NaN</td>\n",
       "    </tr>\n",
       "    <tr>\n",
       "      <th>5</th>\n",
       "      <td>1.0</td>\n",
       "      <td>0.0</td>\n",
       "      <td>NaN</td>\n",
       "      <td>0.0</td>\n",
       "      <td>0.0</td>\n",
       "      <td>0.0</td>\n",
       "      <td>0.0</td>\n",
       "      <td>NaN</td>\n",
       "      <td>0.0</td>\n",
       "      <td>NaN</td>\n",
       "      <td>NaN</td>\n",
       "      <td>1.0</td>\n",
       "      <td>0.0</td>\n",
       "      <td>NaN</td>\n",
       "      <td>NaN</td>\n",
       "      <td>NaN</td>\n",
       "      <td>NaN</td>\n",
       "      <td>NaN</td>\n",
       "    </tr>\n",
       "  </tbody>\n",
       "</table>\n",
       "</div>"
      ],
      "text/plain": [
       "month    1997-01-01  1997-02-01  1997-03-01  1997-04-01  1997-05-01  \\\n",
       "user_id                                                               \n",
       "1               0.0         NaN         NaN         NaN         NaN   \n",
       "2               1.0         NaN         NaN         NaN         NaN   \n",
       "3               0.0         NaN         0.0         0.0         NaN   \n",
       "4               1.0         NaN         NaN         NaN         NaN   \n",
       "5               1.0         0.0         NaN         0.0         0.0   \n",
       "\n",
       "month    1997-06-01  1997-07-01  1997-08-01  1997-09-01  1997-10-01  \\\n",
       "user_id                                                               \n",
       "1               NaN         NaN         NaN         NaN         NaN   \n",
       "2               NaN         NaN         NaN         NaN         NaN   \n",
       "3               NaN         NaN         NaN         NaN         NaN   \n",
       "4               NaN         NaN         0.0         NaN         NaN   \n",
       "5               0.0         0.0         NaN         0.0         NaN   \n",
       "\n",
       "month    1997-11-01  1997-12-01  1998-01-01  1998-02-01  1998-03-01  \\\n",
       "user_id                                                               \n",
       "1               NaN         NaN         NaN         NaN         NaN   \n",
       "2               NaN         NaN         NaN         NaN         NaN   \n",
       "3               1.0         NaN         NaN         NaN         NaN   \n",
       "4               NaN         0.0         NaN         NaN         NaN   \n",
       "5               NaN         1.0         0.0         NaN         NaN   \n",
       "\n",
       "month    1998-04-01  1998-05-01  1998-06-01  \n",
       "user_id                                      \n",
       "1               NaN         NaN         NaN  \n",
       "2               NaN         NaN         NaN  \n",
       "3               NaN         0.0         NaN  \n",
       "4               NaN         NaN         NaN  \n",
       "5               NaN         NaN         NaN  "
      ]
     },
     "execution_count": 51,
     "metadata": {},
     "output_type": "execute_result"
    }
   ],
   "source": [
    "# applymap() 如果消费超过1次则赋值为1 若等于1则赋值为0  若无消费则赋值为空\n",
    "purchase_r = pivoted_counts.applymap(lambda x: 1 if x > 1 else np.NaN if x == 0 else 0)\n",
    "purchase_r.head()"
   ]
  },
  {
   "cell_type": "code",
   "execution_count": 52,
   "metadata": {},
   "outputs": [
    {
     "data": {
      "text/plain": [
       "<matplotlib.axes._subplots.AxesSubplot at 0x23334644ef0>"
      ]
     },
     "execution_count": 52,
     "metadata": {},
     "output_type": "execute_result"
    },
    {
     "data": {
      "image/png": "[encoded data removed]",
      "text/plain": [
       "<Figure size 720x288 with 1 Axes>"
      ]
     },
     "metadata": {},
     "output_type": "display_data"
    }
   ],
   "source": [
    "#  复购率= sum()复购人数 / 总消费人数count()  \n",
    "# figsize 使用元祖的方式赋值 使图形形状尺寸更合适\n",
    "(purchase_r.sum() / purchase_r.count()).plot(figsize = (10,4))"
   ]
  },
  {
   "cell_type": "markdown",
   "metadata": {},
   "source": [
    "结论20：复购率稳定在20%左右，前三个月因为有大量新用户涌入，而这批用户只购买了一次，所以导致复购率降低"
   ]
  },
  {
   "cell_type": "code",
   "execution_count": 53,
   "metadata": {
    "scrolled": true
   },
   "outputs": [
    {
     "data": {
      "text/html": [
       "<div>\n",
       "<style scoped>\n",
       "    .dataframe tbody tr th:only-of-type {\n",
       "        vertical-align: middle;\n",
       "    }\n",
       "\n",
       "    .dataframe tbody tr th {\n",
       "        vertical-align: top;\n",
       "    }\n",
       "\n",
       "    .dataframe thead th {\n",
       "        text-align: right;\n",
       "    }\n",
       "</style>\n",
       "<table border=\"1\" class=\"dataframe\">\n",
       "  <thead>\n",
       "    <tr style=\"text-align: right;\">\n",
       "      <th>month</th>\n",
       "      <th>1997-01-01 00:00:00</th>\n",
       "      <th>1997-02-01 00:00:00</th>\n",
       "      <th>1997-03-01 00:00:00</th>\n",
       "      <th>1997-04-01 00:00:00</th>\n",
       "      <th>1997-05-01 00:00:00</th>\n",
       "      <th>1997-06-01 00:00:00</th>\n",
       "      <th>1997-07-01 00:00:00</th>\n",
       "      <th>1997-08-01 00:00:00</th>\n",
       "      <th>1997-09-01 00:00:00</th>\n",
       "      <th>1997-10-01 00:00:00</th>\n",
       "      <th>1997-11-01 00:00:00</th>\n",
       "      <th>1997-12-01 00:00:00</th>\n",
       "      <th>1998-01-01 00:00:00</th>\n",
       "      <th>1998-02-01 00:00:00</th>\n",
       "      <th>1998-03-01 00:00:00</th>\n",
       "      <th>1998-04-01 00:00:00</th>\n",
       "      <th>1998-05-01 00:00:00</th>\n",
       "      <th>1998-06-01 00:00:00</th>\n",
       "    </tr>\n",
       "    <tr>\n",
       "      <th>user_id</th>\n",
       "      <th></th>\n",
       "      <th></th>\n",
       "      <th></th>\n",
       "      <th></th>\n",
       "      <th></th>\n",
       "      <th></th>\n",
       "      <th></th>\n",
       "      <th></th>\n",
       "      <th></th>\n",
       "      <th></th>\n",
       "      <th></th>\n",
       "      <th></th>\n",
       "      <th></th>\n",
       "      <th></th>\n",
       "      <th></th>\n",
       "      <th></th>\n",
       "      <th></th>\n",
       "      <th></th>\n",
       "    </tr>\n",
       "  </thead>\n",
       "  <tbody>\n",
       "    <tr>\n",
       "      <th>1</th>\n",
       "      <td>1</td>\n",
       "      <td>0</td>\n",
       "      <td>0</td>\n",
       "      <td>0</td>\n",
       "      <td>0</td>\n",
       "      <td>0</td>\n",
       "      <td>0</td>\n",
       "      <td>0</td>\n",
       "      <td>0</td>\n",
       "      <td>0</td>\n",
       "      <td>0</td>\n",
       "      <td>0</td>\n",
       "      <td>0</td>\n",
       "      <td>0</td>\n",
       "      <td>0</td>\n",
       "      <td>0</td>\n",
       "      <td>0</td>\n",
       "      <td>0</td>\n",
       "    </tr>\n",
       "    <tr>\n",
       "      <th>2</th>\n",
       "      <td>1</td>\n",
       "      <td>0</td>\n",
       "      <td>0</td>\n",
       "      <td>0</td>\n",
       "      <td>0</td>\n",
       "      <td>0</td>\n",
       "      <td>0</td>\n",
       "      <td>0</td>\n",
       "      <td>0</td>\n",
       "      <td>0</td>\n",
       "      <td>0</td>\n",
       "      <td>0</td>\n",
       "      <td>0</td>\n",
       "      <td>0</td>\n",
       "      <td>0</td>\n",
       "      <td>0</td>\n",
       "      <td>0</td>\n",
       "      <td>0</td>\n",
       "    </tr>\n",
       "    <tr>\n",
       "      <th>3</th>\n",
       "      <td>1</td>\n",
       "      <td>0</td>\n",
       "      <td>1</td>\n",
       "      <td>1</td>\n",
       "      <td>0</td>\n",
       "      <td>0</td>\n",
       "      <td>0</td>\n",
       "      <td>0</td>\n",
       "      <td>0</td>\n",
       "      <td>0</td>\n",
       "      <td>1</td>\n",
       "      <td>0</td>\n",
       "      <td>0</td>\n",
       "      <td>0</td>\n",
       "      <td>0</td>\n",
       "      <td>0</td>\n",
       "      <td>1</td>\n",
       "      <td>0</td>\n",
       "    </tr>\n",
       "    <tr>\n",
       "      <th>4</th>\n",
       "      <td>1</td>\n",
       "      <td>0</td>\n",
       "      <td>0</td>\n",
       "      <td>0</td>\n",
       "      <td>0</td>\n",
       "      <td>0</td>\n",
       "      <td>0</td>\n",
       "      <td>1</td>\n",
       "      <td>0</td>\n",
       "      <td>0</td>\n",
       "      <td>0</td>\n",
       "      <td>1</td>\n",
       "      <td>0</td>\n",
       "      <td>0</td>\n",
       "      <td>0</td>\n",
       "      <td>0</td>\n",
       "      <td>0</td>\n",
       "      <td>0</td>\n",
       "    </tr>\n",
       "    <tr>\n",
       "      <th>5</th>\n",
       "      <td>1</td>\n",
       "      <td>1</td>\n",
       "      <td>0</td>\n",
       "      <td>1</td>\n",
       "      <td>1</td>\n",
       "      <td>1</td>\n",
       "      <td>1</td>\n",
       "      <td>0</td>\n",
       "      <td>1</td>\n",
       "      <td>0</td>\n",
       "      <td>0</td>\n",
       "      <td>1</td>\n",
       "      <td>1</td>\n",
       "      <td>0</td>\n",
       "      <td>0</td>\n",
       "      <td>0</td>\n",
       "      <td>0</td>\n",
       "      <td>0</td>\n",
       "    </tr>\n",
       "  </tbody>\n",
       "</table>\n",
       "</div>"
      ],
      "text/plain": [
       "month    1997-01-01  1997-02-01  1997-03-01  1997-04-01  1997-05-01  \\\n",
       "user_id                                                               \n",
       "1                 1           0           0           0           0   \n",
       "2                 1           0           0           0           0   \n",
       "3                 1           0           1           1           0   \n",
       "4                 1           0           0           0           0   \n",
       "5                 1           1           0           1           1   \n",
       "\n",
       "month    1997-06-01  1997-07-01  1997-08-01  1997-09-01  1997-10-01  \\\n",
       "user_id                                                               \n",
       "1                 0           0           0           0           0   \n",
       "2                 0           0           0           0           0   \n",
       "3                 0           0           0           0           0   \n",
       "4                 0           0           1           0           0   \n",
       "5                 1           1           0           1           0   \n",
       "\n",
       "month    1997-11-01  1997-12-01  1998-01-01  1998-02-01  1998-03-01  \\\n",
       "user_id                                                               \n",
       "1                 0           0           0           0           0   \n",
       "2                 0           0           0           0           0   \n",
       "3                 1           0           0           0           0   \n",
       "4                 0           1           0           0           0   \n",
       "5                 0           1           1           0           0   \n",
       "\n",
       "month    1998-04-01  1998-05-01  1998-06-01  \n",
       "user_id                                      \n",
       "1                 0           0           0  \n",
       "2                 0           0           0  \n",
       "3                 0           1           0  \n",
       "4                 0           0           0  \n",
       "5                 0           0           0  "
      ]
     },
     "execution_count": 53,
     "metadata": {},
     "output_type": "execute_result"
    }
   ],
   "source": [
    "#回购率\n",
    "data_purchase.head()"
   ]
  },
  {
   "cell_type": "code",
   "execution_count": 75,
   "metadata": {
    "scrolled": false
   },
   "outputs": [
    {
     "data": {
      "text/html": [
       "<div>\n",
       "<style scoped>\n",
       "    .dataframe tbody tr th:only-of-type {\n",
       "        vertical-align: middle;\n",
       "    }\n",
       "\n",
       "    .dataframe tbody tr th {\n",
       "        vertical-align: top;\n",
       "    }\n",
       "\n",
       "    .dataframe thead th {\n",
       "        text-align: right;\n",
       "    }\n",
       "</style>\n",
       "<table border=\"1\" class=\"dataframe\">\n",
       "  <thead>\n",
       "    <tr style=\"text-align: right;\">\n",
       "      <th>month</th>\n",
       "      <th>1997-01-01 00:00:00</th>\n",
       "      <th>1997-02-01 00:00:00</th>\n",
       "      <th>1997-03-01 00:00:00</th>\n",
       "      <th>1997-04-01 00:00:00</th>\n",
       "      <th>1997-05-01 00:00:00</th>\n",
       "      <th>1997-06-01 00:00:00</th>\n",
       "      <th>1997-07-01 00:00:00</th>\n",
       "      <th>1997-08-01 00:00:00</th>\n",
       "      <th>1997-09-01 00:00:00</th>\n",
       "      <th>1997-10-01 00:00:00</th>\n",
       "      <th>1997-11-01 00:00:00</th>\n",
       "      <th>1997-12-01 00:00:00</th>\n",
       "      <th>1998-01-01 00:00:00</th>\n",
       "      <th>1998-02-01 00:00:00</th>\n",
       "      <th>1998-03-01 00:00:00</th>\n",
       "      <th>1998-04-01 00:00:00</th>\n",
       "      <th>1998-05-01 00:00:00</th>\n",
       "      <th>1998-06-01 00:00:00</th>\n",
       "    </tr>\n",
       "    <tr>\n",
       "      <th>user_id</th>\n",
       "      <th></th>\n",
       "      <th></th>\n",
       "      <th></th>\n",
       "      <th></th>\n",
       "      <th></th>\n",
       "      <th></th>\n",
       "      <th></th>\n",
       "      <th></th>\n",
       "      <th></th>\n",
       "      <th></th>\n",
       "      <th></th>\n",
       "      <th></th>\n",
       "      <th></th>\n",
       "      <th></th>\n",
       "      <th></th>\n",
       "      <th></th>\n",
       "      <th></th>\n",
       "      <th></th>\n",
       "    </tr>\n",
       "  </thead>\n",
       "  <tbody>\n",
       "    <tr>\n",
       "      <th>1</th>\n",
       "      <td>0.0</td>\n",
       "      <td>NaN</td>\n",
       "      <td>NaN</td>\n",
       "      <td>NaN</td>\n",
       "      <td>NaN</td>\n",
       "      <td>NaN</td>\n",
       "      <td>NaN</td>\n",
       "      <td>NaN</td>\n",
       "      <td>NaN</td>\n",
       "      <td>NaN</td>\n",
       "      <td>NaN</td>\n",
       "      <td>NaN</td>\n",
       "      <td>NaN</td>\n",
       "      <td>NaN</td>\n",
       "      <td>NaN</td>\n",
       "      <td>NaN</td>\n",
       "      <td>NaN</td>\n",
       "      <td>NaN</td>\n",
       "    </tr>\n",
       "    <tr>\n",
       "      <th>2</th>\n",
       "      <td>0.0</td>\n",
       "      <td>NaN</td>\n",
       "      <td>NaN</td>\n",
       "      <td>NaN</td>\n",
       "      <td>NaN</td>\n",
       "      <td>NaN</td>\n",
       "      <td>NaN</td>\n",
       "      <td>NaN</td>\n",
       "      <td>NaN</td>\n",
       "      <td>NaN</td>\n",
       "      <td>NaN</td>\n",
       "      <td>NaN</td>\n",
       "      <td>NaN</td>\n",
       "      <td>NaN</td>\n",
       "      <td>NaN</td>\n",
       "      <td>NaN</td>\n",
       "      <td>NaN</td>\n",
       "      <td>NaN</td>\n",
       "    </tr>\n",
       "    <tr>\n",
       "      <th>3</th>\n",
       "      <td>0.0</td>\n",
       "      <td>NaN</td>\n",
       "      <td>1.0</td>\n",
       "      <td>0.0</td>\n",
       "      <td>NaN</td>\n",
       "      <td>NaN</td>\n",
       "      <td>NaN</td>\n",
       "      <td>NaN</td>\n",
       "      <td>NaN</td>\n",
       "      <td>NaN</td>\n",
       "      <td>0.0</td>\n",
       "      <td>NaN</td>\n",
       "      <td>NaN</td>\n",
       "      <td>NaN</td>\n",
       "      <td>NaN</td>\n",
       "      <td>NaN</td>\n",
       "      <td>0.0</td>\n",
       "      <td>NaN</td>\n",
       "    </tr>\n",
       "    <tr>\n",
       "      <th>4</th>\n",
       "      <td>0.0</td>\n",
       "      <td>NaN</td>\n",
       "      <td>NaN</td>\n",
       "      <td>NaN</td>\n",
       "      <td>NaN</td>\n",
       "      <td>NaN</td>\n",
       "      <td>NaN</td>\n",
       "      <td>0.0</td>\n",
       "      <td>NaN</td>\n",
       "      <td>NaN</td>\n",
       "      <td>NaN</td>\n",
       "      <td>0.0</td>\n",
       "      <td>NaN</td>\n",
       "      <td>NaN</td>\n",
       "      <td>NaN</td>\n",
       "      <td>NaN</td>\n",
       "      <td>NaN</td>\n",
       "      <td>NaN</td>\n",
       "    </tr>\n",
       "    <tr>\n",
       "      <th>5</th>\n",
       "      <td>1.0</td>\n",
       "      <td>0.0</td>\n",
       "      <td>NaN</td>\n",
       "      <td>1.0</td>\n",
       "      <td>1.0</td>\n",
       "      <td>1.0</td>\n",
       "      <td>0.0</td>\n",
       "      <td>NaN</td>\n",
       "      <td>0.0</td>\n",
       "      <td>NaN</td>\n",
       "      <td>NaN</td>\n",
       "      <td>1.0</td>\n",
       "      <td>0.0</td>\n",
       "      <td>NaN</td>\n",
       "      <td>NaN</td>\n",
       "      <td>NaN</td>\n",
       "      <td>NaN</td>\n",
       "      <td>NaN</td>\n",
       "    </tr>\n",
       "  </tbody>\n",
       "</table>\n",
       "</div>"
      ],
      "text/plain": [
       "month    1997-01-01  1997-02-01  1997-03-01  1997-04-01  1997-05-01  \\\n",
       "user_id                                                               \n",
       "1               0.0         NaN         NaN         NaN         NaN   \n",
       "2               0.0         NaN         NaN         NaN         NaN   \n",
       "3               0.0         NaN         1.0         0.0         NaN   \n",
       "4               0.0         NaN         NaN         NaN         NaN   \n",
       "5               1.0         0.0         NaN         1.0         1.0   \n",
       "\n",
       "month    1997-06-01  1997-07-01  1997-08-01  1997-09-01  1997-10-01  \\\n",
       "user_id                                                               \n",
       "1               NaN         NaN         NaN         NaN         NaN   \n",
       "2               NaN         NaN         NaN         NaN         NaN   \n",
       "3               NaN         NaN         NaN         NaN         NaN   \n",
       "4               NaN         NaN         0.0         NaN         NaN   \n",
       "5               1.0         0.0         NaN         0.0         NaN   \n",
       "\n",
       "month    1997-11-01  1997-12-01  1998-01-01  1998-02-01  1998-03-01  \\\n",
       "user_id                                                               \n",
       "1               NaN         NaN         NaN         NaN         NaN   \n",
       "2               NaN         NaN         NaN         NaN         NaN   \n",
       "3               0.0         NaN         NaN         NaN         NaN   \n",
       "4               NaN         0.0         NaN         NaN         NaN   \n",
       "5               NaN         1.0         0.0         NaN         NaN   \n",
       "\n",
       "month    1998-04-01  1998-05-01  1998-06-01  \n",
       "user_id                                      \n",
       "1               NaN         NaN         NaN  \n",
       "2               NaN         NaN         NaN  \n",
       "3               NaN         0.0         NaN  \n",
       "4               NaN         NaN         NaN  \n",
       "5               NaN         NaN         NaN  "
      ]
     },
     "execution_count": 75,
     "metadata": {},
     "output_type": "execute_result"
    }
   ],
   "source": [
    "def purchase_back(data):\n",
    "    status = []\n",
    "    for i in range(data.count()-1):\n",
    "        if data[i] > 0:# 本月进行过消费\n",
    "            if data[i+1] >0 :# 次月进行了消费\n",
    "                status.append(1) #则标记为1\n",
    "            else:# 次月没消费\n",
    "                status.append(0)# 则标记为0\n",
    "        else:          # 当月没有消费\n",
    "            status.append(np.NaN)# 之前没消费则为空 不计入总数\n",
    "    status.append(np.NaN)        # 最后一个月  手动赋予空值\n",
    "    return pd.Series(status,index=data.index)\n",
    "#应用函数 purchase_back\n",
    "purchase_b = data_purchase.apply(purchase_back ,axis =1)\n",
    "purchase_b.head(5)"
   ]
  },
  {
   "cell_type": "code",
   "execution_count": 76,
   "metadata": {},
   "outputs": [
    {
     "data": {
      "text/plain": [
       "<matplotlib.axes._subplots.AxesSubplot at 0x2333a9a1f60>"
      ]
     },
     "execution_count": 76,
     "metadata": {},
     "output_type": "execute_result"
    },
    {
     "data": {
      "image/png": "[encoded data removed]",
      "text/plain": [
       "<Figure size 720x288 with 1 Axes>"
      ]
     },
     "metadata": {},
     "output_type": "display_data"
    }
   ],
   "source": [
    "#计算回购率:\n",
    "(purchase_b.sum()/purchase_b.count()).plot(figsize=(10,4))"
   ]
  },
  {
   "cell_type": "code",
   "execution_count": null,
   "metadata": {},
   "outputs": [],
   "source": [
    "结论21：从图中可以看出，用户的回购率高于复购，约在30%左右，波动性也较强。新用户的回购率在15%左右，和老客差异不大。\n",
    "将回购率和复购率综合分析，可以得出，新客的整体质量低于老客，老客的忠诚度（回购率）表现较好，消费频次稍次"
   ]
  }
 ],
 "metadata": {
  "kernelspec": {
   "display_name": "Python 3",
   "language": "python",
   "name": "python3"
  },
  "language_info": {
   "codemirror_mode": {
    "name": "ipython",
    "version": 3
   },
   "file_extension": ".py",
   "mimetype": "text/x-python",
   "name": "python",
   "nbconvert_exporter": "python",
   "pygments_lexer": "ipython3",
   "version": "3.7.0"
  }
 },
 "nbformat": 4,
 "nbformat_minor": 2
}
